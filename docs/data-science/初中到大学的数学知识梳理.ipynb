{
 "cells": [
  {
   "cell_type": "markdown",
   "id": "b0818f63-cf74-42ae-8190-93abfb4e35a4",
   "metadata": {},
   "source": [
    "# 初中到大学的数学知识梳理\n",
    "\n",
    "来源：https://www.cnblogs.com/mq0036/p/14899014.html\n",
    "\n",
    "资料：\n",
    "- 高中数学必修和选修知识点全归纳：https://www.cnblogs.com/mq0036/p/14888945.html\n",
    "- 数学常用符号及读法大全： https://www.cnblogs.com/mq0036/p/13892138.html\n",
    "- 大学数学网：https://www.cnblogs.com/mq0036/p/8288329.html\n",
    "- 直观理解图像的傅里叶变换： https://www.cnblogs.com/mq0036/p/14035633.html\n",
    "- 高中数学必考公式大全总结：https://www.sohu.com/a/435285496_120387993\n",
    "- 高中数学：https://github.com/Ayvytr/KnowledgeHierarchy/blob/master/%E9%AB%98%E4%B8%AD%E6%95%B0%E5%AD%A6.md\n",
    "-  Markdown 数学公式使用总结：https://www.cnblogs.com/fan223/articles/17122094.html\n",
    "-  LaTeX数学公式整理： https://muzing.top/posts/48740/\n",
    "-  LaTeX 数学公式总结：https://mathpretty.com/11235.html"
   ]
  },
  {
   "cell_type": "markdown",
   "id": "b074af39-ce32-4db0-bf45-afd87b90bca8",
   "metadata": {},
   "source": [
    "数学包括对数量（数论/算术）、结构（代数）、空间（几何）、变化（分析）的研究，还包括逻辑、集合、应用数学等的研究。"
   ]
  },
  {
   "cell_type": "markdown",
   "id": "65f6fc20-c621-4e89-87dc-e6980953769a",
   "metadata": {},
   "source": [
    "## 初中数学"
   ]
  },
  {
   "cell_type": "markdown",
   "id": "1bac289f-e319-4800-bf14-b93f85caf63b",
   "metadata": {},
   "source": [
    "### 数论中的数学概念\n",
    "\n",
    "![](https://static.cyub.vip/images/202410/54667-20210618000428671-1570607480.png)\n",
    "\n",
    "- 整数：正整数，0，负整数统称为整数\n",
    "\n",
    "- 分数：正分数，负分数统称为分数\n",
    "\n",
    "- 有理数：整数和分数统称为有理数（rational number)\n",
    "\n",
    "- 相反数：正负的两个数互为相反数(opposite number)\n",
    "\n",
    "- 倒数：一个数x与其相乘为1的数，记为 $1/x$，其中 $x!=0$\n",
    "\n",
    "- 无理数：无限不循环小数叫无理数，包括正负无理数，如很多数的平方根或立方根是无理数。如 $\\sqrt{2}$, $\\sqrt[3]{3}$。\n",
    "\n",
    "- 实数：有理数 + 无理数统称为实数。包括正实数 + 负实数。对应平面上的横轴。\n",
    "\n",
    "- 虚数：将偶指数幂是负数的数定义为纯虚数（形如 $a+bxi$ 的数，其中$a$ , $b$ 是实数，且 $b≠0$, $i²=-1$ 。$a$ 为实部，$b$ 为虚部），虚数无算术根。对应平面上的纵轴。\n",
    "\n",
    "- 复数：实数 + 虚数称为复数。"
   ]
  },
  {
   "cell_type": "markdown",
   "id": "bb9020b9-65e8-4209-97f6-3cec3e7bc2b4",
   "metadata": {},
   "source": [
    "### 整数乘法"
   ]
  },
  {
   "cell_type": "markdown",
   "id": "39def240-d350-4e44-bf23-3bf9cc03433b",
   "metadata": {},
   "source": [
    "#### 多项式乘法\n",
    "\n",
    "多项式与多项式相乘，先用一个多项式的每一项乘另一个多项式的每一项，再把所得的积相加。\n",
    "\n",
    "$$\n",
    "\\begin{aligned}\n",
    "(a + b)(p + q) &= a(p + q) + b(p + q) \\\\ \n",
    "&= ap + aq + bp + bq\n",
    "\\end{aligned}\n",
    "$$"
   ]
  },
  {
   "cell_type": "markdown",
   "id": "70f9af4b-4f8b-42cb-b2bd-ce1d215fd04a",
   "metadata": {},
   "source": [
    "#### 平方差\n",
    "\n",
    "formula for the difference of squares：两个数的和与两个数的差的积，等于这两个数的平方差。\n",
    "\n",
    "$$\n",
    "(a+b)(a−b)=a^2 − b^2\n",
    "$$"
   ]
  },
  {
   "cell_type": "markdown",
   "id": "029108b0-06cb-4155-9221-c829de9d077b",
   "metadata": {},
   "source": [
    "#### 平方和公式\n",
    "\n",
    "formula for the square of the sum：两个数的和（或差）的平方，等于他们的平方和，加上（或减去）它们积的2倍。\n",
    "\n",
    "$$\n",
    "(a+b)^2=a^2 + 2ab + b^2\n",
    "$$\n",
    "\n",
    "$$\n",
    "(a−b)^2=a^2−2ab+b^2\n",
    "$$"
   ]
  },
  {
   "cell_type": "markdown",
   "id": "c2513066-f97d-44fc-9955-f06b6fb49884",
   "metadata": {},
   "source": [
    "#### 因式分解\n",
    "\n",
    "$$\n",
    "a^2−b^2=(a+b)(a−b)\n",
    "$$\n",
    "\n",
    "$$\n",
    "a^2+2ab+b^2=(a+b)^2\n",
    "$$\n",
    "\n",
    "$$\n",
    "a^2−2ab+b^2=(a−b)^2\n",
    "$$"
   ]
  },
  {
   "cell_type": "markdown",
   "id": "3bae43af-ed1b-4592-859f-63935554738f",
   "metadata": {},
   "source": [
    "### 一元二次方程\n",
    "\n",
    "考虑一元二次方程 $ax^2 + bx + c = 0$，其中 $a$、$b$、$c$ 是常数，且$ a \\neq 0 $。一元二次方程的解叫做根。在数学术语中，我们通常说求解一元二次方程的根，也就是找到满足方程的未知数的值。下面是求根的推导过程："
   ]
  },
  {
   "cell_type": "markdown",
   "id": "9a5f33be-20fe-4ded-8333-5d3925414dbb",
   "metadata": {},
   "source": [
    "$$\n",
    "\\begin{aligned}\n",
    "&ax^2 + bx + c = 0 \\\\\n",
    "&\\Rightarrow ax^2 + bx = -c \\\\\n",
    "&\\Rightarrow x^2 + \\frac{b}{a}x = -\\frac{c}{a}\\\\\n",
    "&\\Rightarrow x^2 + 2\\frac{b}{2a}x + (\\frac{b}{2a})^2 = -\\frac{c}{a} + (\\frac{b}{2a})^2\\\\\n",
    "&\\Rightarrow (x+\\frac{b}{2a})^2 = \\frac{b^2 - 4ac}{4a^2}\\\\\n",
    "&\\Rightarrow x = \\pm{\\sqrt{\\frac{b^2 - 4ac}{4a^2}}} - \\frac{b}{2a}\\\\\n",
    "&\\Rightarrow x = \\frac{-b\\pm{\\sqrt{b^2 -4ac}}}{2a}\n",
    "\\end{aligned}\n",
    "$$"
   ]
  },
  {
   "cell_type": "markdown",
   "id": "367e0af9-e3a0-4117-a89e-ef02c4b423a1",
   "metadata": {},
   "source": [
    "根号下的$b^2−4ac$被称为判别式，用$\\Delta$表示，即$\\Delta = b^2 - 4ac$\n",
    "\n",
    "根据 $\\Delta$ 的值，我们可以确定根的性质：\n",
    "- 如果 $\\Delta > 0$，方程有两个不相等的实数根。\n",
    "- 如果 $\\Delta = 0$，方程有两个相等的实数根（即一个实数根）\n",
    "- 如果 $\\Delta < 0$，方程没有实数根，但有两个共轭复数根。\n",
    "\n",
    "当 $\\Delta \\geq 0$ 时，实根为：\n",
    "\n",
    "$x_1 = \\frac{-b + \\sqrt{\\Delta}}{2a}$\n",
    "\n",
    "$x_2 = \\frac{-b - \\sqrt{\\Delta}}{2a}$\n",
    "\n",
    "当 $\\Delta = 0$ 时，实根为：\n",
    "\n",
    "$x_1 = x_2 = \\frac{-b}{2a}$\n"
   ]
  },
  {
   "cell_type": "markdown",
   "id": "1593a6c7-ed76-459a-9593-1caddefa58b7",
   "metadata": {},
   "source": [
    "### 多项式\n",
    "\n",
    "Polynomial，由称为未知数的变量和称为系数的常数通过有限次加减法、乘法以及自然数幂次的乘方运算得到的代数表达式。\n",
    "\n",
    "单项式：仅由一项构成的多项式称为单项式\n",
    "\n",
    "常数项：一项中不含未知数\n",
    "\n",
    "示例：\n",
    "\n",
    "- $5x^3$ 是单项式\n",
    "- $3x^4−2x^3+5x^2−7^x+9$中9就是常数项\n",
    "- $x^2+3x−4$ 是三项一元二次多项式\n",
    "- $x^3+2y^2−4z$ 是三项三元三次多项式"
   ]
  },
  {
   "cell_type": "markdown",
   "id": "9463debf-e66b-4c2d-8e12-d0ec24aad06a",
   "metadata": {},
   "source": [
    "## 高中数学"
   ]
  },
  {
   "cell_type": "markdown",
   "id": "7db4b6e9-2151-425d-9a2d-d653f3f41926",
   "metadata": {},
   "source": [
    "### 集合"
   ]
  },
  {
   "cell_type": "markdown",
   "id": "221e6c9a-5161-4169-b885-34c29fa37b80",
   "metadata": {},
   "source": [
    "把对象称为元素(element)，把元素组成的总体叫集合，简称集(set)。如果两个集合的元素相同则两个集合相等。\n",
    "\n",
    "- $a$属于集合记为：$a\\in{A}$\n",
    "\n",
    "- $a$不属于集合B记为：$a\\notin{B}$"
   ]
  },
  {
   "cell_type": "markdown",
   "id": "dda06ae1-c3c1-495b-bbdf-ef9ac2a5290d",
   "metadata": {},
   "source": [
    "#### 集合的表示"
   ]
  },
  {
   "cell_type": "markdown",
   "id": "aa5b1f26-6e55-4a7d-9c1d-9736f8563c9b",
   "metadata": {},
   "source": [
    "- **列举法**：把集合里的所有元素一一列举出来，并用 ${}$ 括起来表示集合的方法。如：$\\{a, b\\}$\n",
    "- **描述法**：无法用列举法表示的无穷个元素的集合，利用集合中元素的共同特征来表示的方法。如：$\\{x\\in{R} \\mid x<10\\}$ 或 $\\{ x \\in {R} \\mid x^2 + 1 > 0 \\} $"
   ]
  },
  {
   "cell_type": "markdown",
   "id": "ca3ad530-1eb8-4a5c-b130-fbf1a1694249",
   "metadata": {},
   "source": [
    "#### 集合的关系"
   ]
  },
  {
   "cell_type": "markdown",
   "id": "1441719b-920d-4de5-9c2a-3bf28ed45e1d",
   "metadata": {},
   "source": [
    "##### 子集\n",
    "\n",
    "对于两个集合A和B，如果集合A中任意一个元素都是B中的元素，则称集合A为B的子集。记作：$A\\subseteq{B}$ 或 $B\\supseteq{A}$\n",
    "\n",
    "韦恩图(Venn)：平面上封闭曲线的内部代表集合。子集韦恩图：\n"
   ]
  },
  {
   "cell_type": "markdown",
   "id": "66fd3d2c-6512-4677-953d-77ea6792f314",
   "metadata": {},
   "source": [
    "##### 真子集\n",
    "\n",
    "如果集合 $A\\subseteq{B}$，但存在元素 $x\\subset{B}$，且 $x\\notin{A}$ 则称集合A是集合B的真子集(propersubset)。记作：$A \\subseteqq B$ 或 $B\\supseteqq{A}$"
   ]
  },
  {
   "cell_type": "markdown",
   "id": "414cdbb9-f210-4952-a3cc-64751b44b255",
   "metadata": {},
   "source": [
    "##### 空集\n",
    "\n",
    "不包含任何元素的集合叫空集(empty set)。记作：$\\emptyset$"
   ]
  },
  {
   "cell_type": "markdown",
   "id": "168a1dbc-e609-4700-96ab-59bc5b22f24b",
   "metadata": {},
   "source": [
    "#### 集合的基本运算"
   ]
  },
  {
   "cell_type": "markdown",
   "id": "58aa0375-5b2f-4dc0-83c4-b6c3cea1b05b",
   "metadata": {},
   "source": [
    "##### 交集\n",
    "\n",
    "由属于集合 $A$ 且属于集合 $B$ 的元素组成的集合，称为集合 $A$ 与 $B$ 的交集(intersection set)，记作：$A\\cap{B}$。即: $A\\cap{B}=\\{x\\mid x \\in{A}, 且x\\in{B}\\}$"
   ]
  },
  {
   "cell_type": "markdown",
   "id": "76ebb815-5dcd-48af-a4f5-99b8666780ae",
   "metadata": {},
   "source": [
    "##### 并集\n",
    "\n",
    "由所属集合 $A$ 及所属集合 $B$ 的元素组成的集合，称为集合 $A$ 与 $B$ 的并集(union set)，记作：$A\\cup{B}$。即:$A\\cup{B}=\\{x \\mid x\\in{A},或x\\in{B}\\}$"
   ]
  },
  {
   "cell_type": "markdown",
   "id": "6def6b84-94ac-4de9-866f-2b24627edec1",
   "metadata": {},
   "source": [
    "##### 补集\n",
    "\n",
    "补集是指在全集中不属于某个集合的所有元素组成的集合。对于一个集合，由全集$U$中不属于集合$A$的所有元素组成的集合称为集合$A$相对于全集$U$的补集(complementary set)，记作：$\\complement_U A$，即：$\\complement_U A=\\{x \\mid x \\in{U},且 x \\notin{A}\\}$"
   ]
  },
  {
   "cell_type": "markdown",
   "id": "4b5f62c6-83f4-4e4e-bff4-875e5b803c0a",
   "metadata": {},
   "source": [
    "##### 全集\n",
    "\n",
    "一个集合包含研究问题中涉及的所有元素，则该集合为全集(universe set)，记作$U$。"
   ]
  },
  {
   "cell_type": "markdown",
   "id": "4ae1dc6d-6af4-4ed3-b412-0261078ed83a",
   "metadata": {},
   "source": [
    "#### 差集\n",
    "\n",
    "差集是指两个集合中，属于第一个集合但不属于第二个集合的所有元素组成的集合。如果用集合 $A$ 和集合 $B$ 来表示，那么 $A$ 和 $B$ 的差集可以表示为 $A \\setminus B$ 或者 $A−B$，它包含了所有属于 $A$ 但不属于 $B$ 的元素。"
   ]
  },
  {
   "cell_type": "markdown",
   "id": "78159437-262e-4f1e-873e-30501e26aee1",
   "metadata": {},
   "source": [
    "### 充要条件"
   ]
  },
  {
   "cell_type": "markdown",
   "id": "5aa69ee9-0a0f-415a-8ef0-1a95dd0d8aba",
   "metadata": {},
   "source": [
    "#### 真命题\n",
    "\n",
    "若 $p$，则 $q$，即由 $p$ 可以推出 $q$，记作：$p \\Rightarrow q$\n",
    "\n",
    "- $p$ 是 $q$ 的充分条件(sufficient condition)\n",
    "- $q$ 是 $p$ 的必要条件(necessary condition)\n"
   ]
  },
  {
   "cell_type": "markdown",
   "id": "704a79a2-fc86-4658-a9dd-d6367360b04b",
   "metadata": {},
   "source": [
    "#### 假命题\n",
    "\n",
    "若 $p$，不能得出 $q$，即由 $p$ 不能得出结论 $q$。记作：$p \\nRightarrow q$。"
   ]
  },
  {
   "cell_type": "markdown",
   "id": "2b3aa16c-752e-4cbd-abf3-a931275fe0df",
   "metadata": {},
   "source": [
    "#### 逆命题\n",
    "\n",
    "“若 $p$，则 $q$” 中的条件 $p$ 和结论 $q$ 互换，得到一个新的命题 “若 $q$，则 $p$”，则该命题为原命题的逆命题。"
   ]
  },
  {
   "cell_type": "markdown",
   "id": "039b35e2-8d8c-4384-8be1-1e1b0caa96b4",
   "metadata": {},
   "source": [
    "#### 充要条件\n",
    "\n",
    "“若 $p$，则 $q$” 中的条件 $p$ 和结论 $q$ 互换，得到一个新的命题 “若 $q$，则 $p$”，均为真命题，即：$p \\Leftarrow q$，又 $q \\Rightarrow p$，记作：$p \\Leftrightarrow q$。\n",
    "\n",
    "此时 $p$ 即是 $q$ 的充要条件，也是 $q$ 的必要条件，则说 $p$ 是 $q$ 的充分必要条件，简称充要条件(sufficient adn necessary condition)\n"
   ]
  },
  {
   "cell_type": "markdown",
   "id": "c0187acd-e488-45c9-8be4-88d71af4e343",
   "metadata": {},
   "source": [
    "#### 全称量词\n",
    "\n",
    "短语 “所有的”、“任意一个” 在逻辑中通常叫做全称量词(universal proposition)。用符号：$\\forall$ (一个倒写的字母 A)表示。它表示“对所有的”或“对任意的”。在数学逻辑中，全称量词用来表达某个属性对某个集合中的所有元素都成立。含有全称量词的命题称为全称量词命题(universal proposition)。\n",
    "\n",
    "对于 $M$ 中任意一个 $x$, $p(x)$ 成立，记作：$\\forall x \\in{M},\\ p(x)$\n",
    "\n",
    "对所有自然数n，n都大于或等于0，记作：$\\forall n \\in \\mathbb{N},\\ n \\geq 0$"
   ]
  },
  {
   "cell_type": "markdown",
   "id": "6e5d7226-881c-4ae6-9757-5d06d25bbec9",
   "metadata": {},
   "source": [
    "#### 存在量词\n",
    "\n",
    "短语 “存在一个”，“至少有一个”在逻辑中通常叫做存在量词(existential quantifier)，用符号：$\\exists$（一个正写的字母 E）表示。含有存在量词的命题称为存在量词命题(existential proposition)。\n",
    "\n",
    "存在 $M$ 中的元素 $x$，$p(x)$ 成立，记作：$\\exists x\\in {M},\\ p(x)$\n",
    "\n",
    "表示存在至少一个自然数n，它是偶数，记作：$\\exists n \\in \\mathbb{N},\\ n \\text{是偶数}$"
   ]
  },
  {
   "cell_type": "markdown",
   "id": "3b189706-3db7-4842-8992-1f603f7d4fde",
   "metadata": {},
   "source": [
    "#### 全称量词的否定\n",
    "\n",
    "全称量词的否定的含义是：并非所有的元素都具有某种性质。换句话说，至少有一个元素不具有这种性质。否定符号 “$\\neg$” 可以用命令 \\neg 来表示。\n",
    "\n",
    "\n",
    "全称量词 $\\forall x \\in {M}, p(x)$ 的否定表示：\n",
    "\n",
    "$$\n",
    "\\exists x \\in {M}, \\neg p(x)\n",
    "$$\n",
    "\n",
    "对于表达式： $\\exists x \\in M, \\neg p(x)$ 表示存在至少一个元素 $x$ 在集合 $M$ 中，使得命题 $p(x)$ 不成立。这里的 “$\\neg$” 是逻辑非操作符，表示对 $p(x)$ 的否定。"
   ]
  },
  {
   "cell_type": "markdown",
   "id": "2a4c5c58-7a1b-46bd-9936-33303bc22b15",
   "metadata": {},
   "source": [
    "#### 存在量词的否定\n",
    "\n",
    "存在量词的否定意味着原本断言存在的元素实际上并不存在。在逻辑学中，如果一个命题声称“存在某个特定的条件或属性被至少一个元素所满足”（即 $\\exists x\\ p(x)$），那么这个命题的否定就是“对于所有的元素，这个条件或属性都不被满足”（即 $\\forall x\\ \\neg p(x)$）。\n",
    "\n",
    "用更通俗的话来说，如果有人说：“至少有一个人会通过这个考试”，那么这句话的否定就是：“没有人会通过这个考试”。换句话说，存在量词的否定是说没有任何一个元素能够满足原本被声称的条件。\n",
    "\n",
    "存在量词 $\\exists x \\in M,\\ p(x)$ 的否定表示：\n",
    "\n",
    "$$\n",
    "\\forall x \\in M,\\ p(x)$\n",
    "$$"
   ]
  },
  {
   "cell_type": "markdown",
   "id": "08eba427-e281-49fb-8528-d89837c5da31",
   "metadata": {},
   "source": [
    "### 函数"
   ]
  },
  {
   "cell_type": "markdown",
   "id": "d8e98c8d-deef-451a-bace-f7cb9e595d6a",
   "metadata": {},
   "source": [
    "函数是刻画变量之间对应关系的数学模型和工具。\n",
    "\n",
    "设 $A$ , $B$ 是非空的实数集，如果对于集合 $A$ 中的任意一个数 $x$，按照某种确定的对应关系 $f$, 在集合 $B$ 中都有唯一确定的数 $y$ 和它对应，则称$f: a→B$ 为从集合 $A$ 到 $B$ 的一个函数(function)。记作：$y=f(x),x \\in A$\n",
    "\n",
    "其中：\n",
    "\n",
    "- $x$: 自变量\n",
    "- $x$ 的取值范围叫做函数的定义域(domain)\n",
    "- 与 $x$ 值对应的 $y$ 值叫做函数值，也是函数的值域(range)。即 $\\{f(x) \\mid x \\in A\\}$\n",
    "    "
   ]
  },
  {
   "cell_type": "markdown",
   "id": "8e01d928-cedd-49ae-8316-a3063e206409",
   "metadata": {},
   "source": [
    "#### 开闭区间\n",
    "\n",
    "研究函数时常会用到区间的概念，设$a$, $b$ 是两个实数，而且 $a<b$\n",
    "\n",
    "- 满足不等式 $a≤x≤b$ 的实数 $x$ 的集合叫做闭区间,表示为 $[a,b]$\n",
    "- 满足不等式 $a<x<b$ 的实数 $x$ 的集合叫做开区间,表示为 $(a,b)$\n",
    "- 满足不等式 $a≤x<b$ 或 $a<x≤b$ 的实数 $x$ 的集合叫做半开半闭区间,分别表示为 $[a,b)$, $(a,b]$\n",
    "\n",
    "实数 $a$ 与 $b$ 都叫做相应区间的端点这些区间的几何表示如下所示，在数轴表示时,用实心点表示包括在区间内的端点,用空心点表示不包括在区间内的端点。实数集 $R$ 可以用区间表示为 $(-\\infty, +\\infty)$, \"$\\infty$” 读作\"无穷大”, ”读作\"正无穷大”, \"$-\\infty$” 读作\"负无穷大”。"
   ]
  },
  {
   "cell_type": "markdown",
   "id": "e2769ec2-8d27-46e3-9082-ceb2db37d6e7",
   "metadata": {},
   "source": [
    "#### 函数的表示"
   ]
  },
  {
   "cell_type": "code",
   "execution_count": 1,
   "id": "55c24281-530a-4cd6-b4de-4d942b732972",
   "metadata": {},
   "outputs": [
    {
     "data": {
      "image/png": "[encoded data removed]",
      "text/plain": [
       "<Figure size 640x480 with 1 Axes>"
      ]
     },
     "metadata": {},
     "output_type": "display_data"
    }
   ],
   "source": [
    "import matplotlib.pyplot as plt\n",
    "import numpy as np\n",
    "\n",
    "# 定义函数\n",
    "def f(x):\n",
    "    return np.sin(x)\n",
    "\n",
    "# 生成x值\n",
    "x = np.linspace(-np.pi, np.pi, 100)\n",
    "\n",
    "# 计算y值\n",
    "y = f(x)\n",
    "\n",
    "# 绘制函数图像\n",
    "plt.plot(x, y)\n",
    "\n",
    "# 添加标题和标签\n",
    "plt.title('Sine Wave')\n",
    "plt.xlabel('x')\n",
    "plt.ylabel('f(x)')\n",
    "\n",
    "# 显示网格\n",
    "plt.grid(True)\n",
    "\n",
    "# 显示图像\n",
    "plt.show()"
   ]
  },
  {
   "cell_type": "markdown",
   "id": "1c5064f6-bda6-4547-bf3a-2b494fc4b85e",
   "metadata": {},
   "source": [
    "#### 单调性与最大值、最小值\n",
    "\n",
    "- 单调性：$\\text{ 利用函数图像研究函数值随自变量的增大而增大（或减少）的性质叫函数的单调性}$\n",
    "- 单调递增：$\\text{设函数 } f(x) \\text{ 的定义域为 } I \\text{，区间 } D \\text{ 是 } I \\text{ 的真子集。如果 } \\forall x_1, x_2 \\in D \\text{，当 } x_1 < x_2 \\text{ 时，都有 } f(x_1) \\leq f(x_2) \\text{，那么就称函数 } f(x) \\text{ 在区间 } D \\text{ 上单调递增}$\n",
    "- 增函数：$\\text{当函数} f(x) \\text{在它的定义域上单调递增时,我们就称它是增函数(increase function)}$\n",
    "- 单调递减：$\\text{设函数} f(x) \\text{的定义域为} I ,区间 D 是 I 的真子集。如果\\forall x_1, x_2 \\in D,当x_1 > x_2时, 都有 f(x_1) > f(x_2),那么就称函数f(x)在区间D上单调递减$\n",
    "- 减函数：$当函数f(x)在它的定义域上单调递减时,我们就称它是减函数(increase function)$\n",
    "- 单调区间：$如果函数y=f(x)在区间D上单调递增或单调递减, 那么就说函数y=f(x)在这一区间具有(严格的)单调性,区间D叫做y=f(x)的单调区间$\n",
    "- 最大值： $设函数y=f(x)的定义域为I,如果存在实数M满足 (1) \\forall x \\in I ,都有f(x)≤M; (2)\\exists x_0 \\in I,使得f(x_0)=M 则M是函数y=f(x)的最大值( maximum value)$\n",
    "- 最小值： $设函数y=f(x)的定义域为I,如果存在实数M满足 (1)\\forall x \\in I ,都有f(x)>=M; (2)\\exists x_0 \\in I,使得f(x_0)=M 则M是函数y=f(x)的最小值( minimum value)$\n"
   ]
  },
  {
   "cell_type": "markdown",
   "id": "54d0b3e3-17a4-4b52-acae-5fb35333b8ee",
   "metadata": {},
   "source": [
    "#### 奇偶性\n",
    "\n",
    "- 偶函数(even function)：$设函数f(x)的定义域为I, 如果\\forall x \\in I,都有-x \\in I, 且f(-x)=f(x),那么函数f(x)就叫做偶函数(even function)$\n",
    "\n",
    "- 奇函数(odd function）：$设函数f(x)的定义域为I, 如果x \\in I,都有-x \\in I, 且f(-x)=-f(x), 那么函数f(x)就叫做奇函数( odd function)$\n",
    "\n"
   ]
  },
  {
   "cell_type": "markdown",
   "id": "768436ff-3017-45a3-93fa-ce7b87ff509c",
   "metadata": {},
   "source": [
    "#### 幂函数\n",
    "\n",
    "幂函数是指形如 $ f(x) = x^a $ 的函数，其中 $ a $ 是一个常数，$ x $ 是变量。幂函数的特点是底数是变量，指数是常数。例如，$ y = x^2 $，$ y = x^3 $ 等都是幂函数。"
   ]
  },
  {
   "cell_type": "markdown",
   "id": "cb73ce6d-7aca-4187-a4d4-457193aa5db1",
   "metadata": {},
   "source": [
    "#### 指数函数"
   ]
  },
  {
   "cell_type": "markdown",
   "id": "0de7495c-e77a-4279-8736-5fe00a2889a3",
   "metadata": {},
   "source": [
    "##### 指数（Exponentiation）"
   ]
  },
  {
   "cell_type": "markdown",
   "id": "c9a9099a-2c5b-404f-aab1-e502081dabce",
   "metadata": {},
   "source": [
    "指数是数学中的一个概念，表示一个数（称为底数）自乘的次数。指数通常写在底数的右上角，例如 $ a^n $，其中 $ a $ 是底数, $ n $ 是指数。指数运算可以定义为：\n",
    "\n",
    "$ a^n = \\underbrace{a \\times a \\times \\cdots \\times a}_{n \\text{ 次}} $\n",
    "\n",
    "其中 $ a $ 是任意实数，$ n $ 是正整数。如果 $ n = 0 $，则 $ a^0 = 1 $（对于 $ a \\neq 0 $）。如果 $ n $ 是负整数，则 $ a^n = \\frac{1}{a^{-n}} $。\n",
    "\n",
    "例如：\n",
    "- $ 2^3 = 2 \\times 2 \\times 2 = 8 $\n",
    "- $ 10^{-2} = \\frac{1}{10^2} = \\frac{1}{100} $"
   ]
  },
  {
   "cell_type": "markdown",
   "id": "522bafc2-f177-44cb-9a52-cbb662767fdb",
   "metadata": {},
   "source": [
    "##### 指数函数\n",
    "\n",
    "指数函数是指形如 $ f(x) = a^x $ 的函数，其中 $ a $ 是一个大于0且不等于1的常数，$ x $ 是变量。指数函数的特点是底数是常数，指数是变量。例如，$ y = 2^x $，$ y = e^x $ 等都是指数函数。\n"
   ]
  },
  {
   "cell_type": "markdown",
   "id": "5df32dd7-5258-4a08-b925-de6e2420ddbf",
   "metadata": {},
   "source": [
    "##### $n$次方根"
   ]
  },
  {
   "cell_type": "markdown",
   "id": "c06d16f9-8e7e-46ad-a768-96fa75c3a425",
   "metadata": {},
   "source": [
    "如果 $x^n=a$，则 $x$ 叫做 $a$ 的 $n$ 次方根，其中$ n>1$ 且 $n \\in N$。$a$ 的 $n$ 次方根用符号：$\\sqrt[n]{a}$ 表示\n",
    "\n",
    "$\\sqrt[n]{a}$ 叫根式(radical)，$n$ 为根指数，$a$ 叫被开 $n$ 次方。\n",
    "\n",
    "$n$ 为奇数、偶数时 $n$ 次方根计算：\n",
    "\n",
    "- 当 $n$ 是奇数时, 正数的 $n$ 次方根是一个正数, 负数的 $n$ 次方根是一个负数. 这时, $a$ 的 $n$ 次方根用符号表示 $\\sqrt[n]{a}$\n",
    "\n",
    "- 当 $n$ 是偶数时, 正数的 $n$ 次方根有两个, 这两个数互为相反数. 正数 $a$ 的正的 $n$ 次方根用符号 $\\sqrt[n]{a}$ 表示, 负的 $n$ 次方根用符号$-\\sqrt[n]{a}$表示, 正的 $n$ 次方根与负的 $n$ 次方根可以合并写成$\\pm \\sqrt{a}(a>0)$."
   ]
  },
  {
   "cell_type": "markdown",
   "id": "fdb3420d-bd29-4a79-aacb-092fa1c81d03",
   "metadata": {},
   "source": [
    "负数没有偶次方根。0的任何次方根都是0,记作0=0."
   ]
  },
  {
   "cell_type": "markdown",
   "id": "80146865-432e-43aa-b173-292752290fb4",
   "metadata": {},
   "source": [
    "**性质**\n",
    "\n",
    "1. $(\\sqrt[n]{a})^n = a$"
   ]
  },
  {
   "cell_type": "markdown",
   "id": "3e55b783-0eb9-4a6d-b896-e1b6c6271fd3",
   "metadata": {},
   "source": [
    "2. $\\sqrt[n]{a^m} = a^{\\frac{m}{n}}( a> 0, m, n \\in N, n > 1)$"
   ]
  },
  {
   "cell_type": "markdown",
   "id": "e07232eb-af74-462a-b138-186a58261dd7",
   "metadata": {},
   "source": [
    "3. $\\frac{1}{\\sqrt[n]{a^m}} = a^{-\\frac{m}{n}}(a > 0, m, n \\in N, n>1)$"
   ]
  },
  {
   "cell_type": "markdown",
   "id": "715cadae-52ac-418f-9111-73fc07657889",
   "metadata": {},
   "source": [
    "4. 0的正分数指数幂为0，0的负分数指数幂没有意义"
   ]
  },
  {
   "cell_type": "markdown",
   "id": "4f3ca122-df5b-4fc9-814a-82f8ae672b77",
   "metadata": {},
   "source": [
    "5. $a^ra^s = a^{r+s}(a >0, r,s \\in R)$"
   ]
  },
  {
   "cell_type": "markdown",
   "id": "74bcb352-4a7e-4c8c-a872-3de2e1d06c3b",
   "metadata": {},
   "source": [
    "6. $(a^r)^s = a^{rs}(a >0, r,s \\in R)$"
   ]
  },
  {
   "cell_type": "markdown",
   "id": "07271041-3b68-45ea-a306-1da51909d3ee",
   "metadata": {},
   "source": [
    "7. $(ab)^r = a^rb^r(a>0, b>0, r \\in R)$"
   ]
  },
  {
   "cell_type": "markdown",
   "id": "b6f03723-f10e-488b-836a-3b72d874eb8d",
   "metadata": {},
   "source": [
    "**指数函数乘除**\n",
    "\n",
    "同底数幂相除，底数不变，指数相减。\n",
    "\n",
    "$$\n",
    "a^m \\div a ^n=a^{m−n}\n",
    "$$\n",
    "\n",
    "同底数幂相乘，底数不变，指数相加。\n",
    "\n",
    "$$\n",
    "a^m \\times a^n=a^{m+n}\n",
    "$$"
   ]
  },
  {
   "cell_type": "markdown",
   "id": "565fd55c-d771-49e0-8d3c-157ea181d405",
   "metadata": {},
   "source": [
    "#### 对数函数"
   ]
  },
  {
   "cell_type": "markdown",
   "id": "52f96949-0aea-4e2c-97b8-1e87df1df4e7",
   "metadata": {},
   "source": [
    "##### 对数"
   ]
  },
  {
   "cell_type": "markdown",
   "id": "cb9ab9ef-8ce6-4ef5-9f72-874581e72b79",
   "metadata": {},
   "source": [
    "对数是指数的逆运算，它回答了这样的问题：“要将底数提高到什么幂次才能得到某个特定的数？”。如果 $ a^x = y $，那么 $ x $ 就是以 $ a $ 为底 $ y $ 的对数，记作 $ \\log_a(y) = x $。\n",
    "\n",
    "对数的定义可以写成：\n",
    "$ \\log_b(y) = x \\iff b^x = y $\n",
    "\n",
    "其中 $ y $ 是底数，$ y $ 是真数，$ x $ 是对数值。对数的底数可以是任何正实数，但通常底数为10的对数称为常用对数（$ \\log_{10} $），底数为 $ e $（自然对数的底数，约等于2.71828）的对数称为自然对数（$\\ln $），底数为2的对数是$\\log_2$。\n",
    "\n",
    "例如：\n",
    "- $ \\log_{10}(100) = 2 $，因为 $ 10^2 = 100 $\n",
    "- $ \\ln(e) = 1 $，因为 $ e^1 = e $\n",
    "\n",
    "对数有一些重要的性质，包括：\n",
    "- 负数与0没有对数\n",
    "- $ \\log_a{1} = 0 $, $\\ \\log_a{a} = 1 $\n",
    "- $ \\log_a{MN} = \\log_a{M} + \\log_b{N} $\n",
    "- $ \\log_a\\left(\\frac{M}{N}\\right) = \\log_a(M) - \\log_a(N) $\n",
    "- $ \\log_a(M^n) = n \\log_a(M) $\n",
    "- 换底公式：$\\log_a{b} = \\frac{\\log_c{b}}{\\log_c{a}}\\ \\ $($a>0且a \\neq 1; b > 0; c> 0 且 c\\neq 1)$"
   ]
  },
  {
   "cell_type": "markdown",
   "id": "1c262eb7-51f8-4336-8d1d-b91981a57f03",
   "metadata": {},
   "source": [
    "如果 $a^x=N$($a>0$且$a \\ne 1$)，那么数$x$叫做以$a$为底$N$的对数(logarithm)，记作：$x=\\log_a{N}$。其中$a$为对数的底数，$N$为真数。\n",
    "\n",
    "- 常用对数：common logarithm, 以10为底的对数，即$log_{10}{N}$，简写为：$lgN$\n",
    "- 自然对数：natural logarithm, 以科技、经济、生活中常用的无理数$e=2.71828..$为底数的对象，即$log_{e}{N}=ln{N}（N>0)$\n",
    "- 计算机以2为底的对数：$log_{2}{N}=lg{N}$"
   ]
  },
  {
   "cell_type": "markdown",
   "id": "b9634af7-aebf-41d8-896a-8c218437e22f",
   "metadata": {},
   "source": [
    "##### 指数与对数的关系"
   ]
  },
  {
   "cell_type": "markdown",
   "id": "05215e9f-05d3-4927-814f-4a3ab1c9a6bc",
   "metadata": {},
   "source": [
    "互为逆运算关系。\n",
    "- 指数关系：$a^y = x$，此时a是底数， y是指数\n",
    "- 对数关系：$\\log_a(x) = y$， 此时a是底数，x是对数\n",
    "\n",
    "即$a$ 是底数，$x$ 是指数运算的结果（或对数的真数），$y$ 是指数（或对数的结果）。"
   ]
  },
  {
   "cell_type": "markdown",
   "id": "9ad19bae-3424-40bb-9b24-cf2f8d4752fe",
   "metadata": {},
   "source": [
    "#### 反函数"
   ]
  },
  {
   "cell_type": "markdown",
   "id": "1f5149e5-0f89-42c2-ac5c-94f7ed927983",
   "metadata": {},
   "source": [
    "如果存在一个函数 $ f $ 将集合 $ A $ 中的元素映射到集合 $ B $ 中的元素，即 $ f: A \\rightarrow B $，那么反函数就是将这个过程逆转，将集合 $ B $ 中的元素映射回集合 $ A $ 中的元素，即 $ f^{-1}: B \\rightarrow A $。\n",
    "\n",
    "反函数存在的条件是原函数 $ f $ 必须是双射的，即：\n",
    "\n",
    "1. **单射（Injective）**：函数 $ f $ 是单射的，意味着集合 $ A $ 中的每个元素都映射到集合 $ B $ 中的唯一元素，没有两个不同的 $ A $ 中的元素映射到 $ B $ 中的同一个元素。\n",
    "\n",
    "2. **满射（Surjective）**：函数 $ f $ 是满射的，意味着集合 $ B $ 中的每个元素至少有一个 $ A $ 中的元素映射到它。\n",
    "\n",
    "只有当函数 $ f $ 既是单射又是满射时，它才是双射的，这时才存在反函数。\n",
    "\n",
    "反函数的性质包括：\n",
    "\n",
    "- **唯一性**：如果一个函数有反函数，那么这个反函数是唯一的。\n",
    "- **复合性**：如果 $ f $ 和 $ g $ 是反函数，那么 $ f(g(x)) = x $ 和 $ g(f(x)) = x $ 对于所有 $ x $ 在定义域内都成立。\n",
    "- **逆运算**：反函数可以看作是原函数的逆运算。比如 $x=log_a{b}，y∈(0,1]$是函数$y=a^x，x∈ [0,+∞) $的反函数。"
   ]
  },
  {
   "cell_type": "markdown",
   "id": "e31d3c88-5398-40d2-bd94-c7eea4d74217",
   "metadata": {},
   "source": [
    "#### 三角函数"
   ]
  },
  {
   "cell_type": "markdown",
   "id": "5352443b-7cfd-43d4-9d7c-b98eace46d37",
   "metadata": {},
   "source": [
    "##### 正弦函数（Sine Function，sin）\n",
    "\n",
    "\n",
    "$y=\\sin{x},\\ x \\in [0, 2\\pi] \\ , y \\in [-1, 1]$\n",
    "\n",
    "\n",
    "**定义：**\n",
    "- **直角三角形定义：** 在直角三角形中，对于一个锐角 $ \\theta $，正弦值定义为对边长度与斜边长度的比值，即 $ \\sin(\\theta) = \\frac{\\text{对边}}{\\text{斜边}} $。\n",
    "- **单位圆定义：** 在单位圆（半径为1的圆）上，对于任意角度 $ \\theta $（以弧度为单位），正弦值是终边与单位圆相交点的y坐标。\n",
    "\n",
    "示意图：\n",
    "![](https://static.cyub.vip/images/202411/sin_gif.png)\n",
    "\n",
    "示意图来源：https://www.geogebra.org/m/YEnGXvQu\n",
    "\n",
    "**性质：**\n",
    "- 正弦函数是周期函数，周期为 $ 2\\pi $。\n",
    "- 正弦函数的值域为 $[-1, 1]$。\n",
    "- 正弦函数是奇函数，即 $ \\sin(-\\theta) = -\\sin(\\theta) $。\n",
    "\n",
    "**注意**：\n",
    "\n",
    "正弦函数 $\\sin(x)$ 的确是在 $x = 90^\\circ$ 时达到最大值 1。这是因为在直角三角形中，正弦函数定义为对边长度与斜边长度的比值。当角度为 $90^\\circ$ 时，对边长度等于斜边长度，因此比值为 1。\n",
    "\n",
    "然而，正弦函数通常使用弧度作为输入参数。弧度和角度之间的转换关系是 $180^\\circ = \\pi$ 弧度。因此，$90^\\circ$ 相当于 $\\frac{\\pi}{2}$ 弧度。\n",
    "\n",
    "所以，当使用弧度作为单位时，正弦函数在 $x = \\frac{\\pi}{2}$ 时达到最大值 1。这与角度制下的 $90^\\circ$ 是一致的，因为 $90^\\circ = \\frac{\\pi}{2}$ 弧度。\n",
    "\n",
    "总结来说，无论是使用角度还是弧度，正弦函数都是在 $90^\\circ$（或 $\\frac{\\pi}{2}$ 弧度）时达到最大值 1。"
   ]
  },
  {
   "cell_type": "code",
   "execution_count": 19,
   "id": "f79cd269-ce86-4e69-a29e-9fda7f177930",
   "metadata": {},
   "outputs": [
    {
     "data": {
      "image/png": "[encoded data removed]",
      "text/plain": [
       "<Figure size 800x600 with 1 Axes>"
      ]
     },
     "metadata": {},
     "output_type": "display_data"
    }
   ],
   "source": [
    "import numpy as np\n",
    "import matplotlib.pyplot as plt\n",
    "\n",
    "# 定义x的范围，这里从0到2π，足够展示一个完整的正弦波周期\n",
    "x = np.linspace(0, 2 * np.pi, 1000)\n",
    "\n",
    "# 计算对应的正弦值\n",
    "y = np.sin(x)\n",
    "\n",
    "# 创建图形\n",
    "plt.figure(figsize=(8, 6))\n",
    "\n",
    "# 画出正弦波\n",
    "plt.plot(x, y, label='y = sin(x)')\n",
    "\n",
    "# 在y轴值等于0画一条直线\n",
    "plt.hlines(y=0, xmin=0, xmax=2*np.pi, colors='green', linestyles='dashed')\n",
    "\n",
    "# 添加图例\n",
    "plt.legend()\n",
    "\n",
    "# 添加网格\n",
    "plt.grid(True)\n",
    "\n",
    "# 添加x和y轴标签\n",
    "plt.xlabel('x (radians)')\n",
    "plt.ylabel('sin(x)')\n",
    "\n",
    "# 显示图形\n",
    "plt.show()"
   ]
  },
  {
   "cell_type": "markdown",
   "id": "f29e3a52-3984-40b0-b565-0d4491445975",
   "metadata": {},
   "source": [
    "##### 余弦函数（Cosine Function，cos）\n",
    "\n",
    "**定义：**\n",
    "- **直角三角形定义：** 在直角三角形中，对于一个锐角 $ \\theta $，余弦值定义为邻边长度与斜边长度的比值，即 $ \\cos(\\theta) = \\frac{\\text{邻边}}{\\text{斜边}} $。\n",
    "- **单位圆定义：** 在单位圆上，对于任意角度 $ \\theta $，余弦值是终边与单位圆相交点的x坐标。\n",
    "\n",
    "动态示意图：https://www.geogebra.org/m/cNEtsbvC\n",
    "\n",
    "**性质：**\n",
    "- 余弦函数也是周期函数，周期为 $ 2\\pi $。\n",
    "- 余弦函数的值域同样为 $[-1, 1]$。\n",
    "- 余弦函数是偶函数，即 $ \\cos(-\\theta) = \\cos(\\theta) $。"
   ]
  },
  {
   "cell_type": "markdown",
   "id": "b961cc26-22b0-4010-ba84-d706143eca68",
   "metadata": {},
   "source": [
    "##### 正切函数（Tangent Function，tan）\n",
    "\n",
    "**定义：**\n",
    "- **直角三角形定义：** 在直角三角形中，对于一个锐角 $ \\theta $，正切值定义为对边长度与邻边长度的比值，即 $ \\tan(\\theta) = \\frac{\\text{对边}}{\\text{邻边}} $。\n",
    "- **正弦余弦比值定义：** 正切函数也可以定义为正弦函数与余弦函数的比值，即 $ \\tan(\\theta) = \\frac{\\sin(\\theta)}{\\cos(\\theta)} $。\n",
    "\n",
    "**性质：**\n",
    "- 正切函数是周期函数，周期为 $ \\pi $。\n",
    "- 正切函数的值域为所有实数，即 $ (-\\infty, \\infty) $，但在 $ \\cos(\\theta) = 0 $ 时函数无定义（即 $ \\theta = \\frac{\\pi}{2} + k\\pi $，其中 $ k $ 是整数）。\n",
    "- 正切函数是奇函数，即 $ \\tan(-\\theta) = -\\tan(\\theta) $。"
   ]
  },
  {
   "cell_type": "markdown",
   "id": "04df0578-f258-47bd-9a9b-030d3de49d75",
   "metadata": {},
   "source": [
    "### 数列"
   ]
  },
  {
   "cell_type": "markdown",
   "id": "584c62e4-8003-4c7a-baf4-a23937e7d5bb",
   "metadata": {},
   "source": [
    "按确定顺序排列的数称为数列。用正整数表示事物发展过程的先后顺序，把正整数作为自变量的取值，把事务对应数值看作是相应的函数值，数列是定义在正整数集上的一类离散函数。\n",
    "\n",
    "数列形式：$a_1, a_2, a_3, ..., a_n$，简记为: $\\{a_n\\}$\n",
    "\n",
    "因为：$\\{a_n\\}$ 中每一项$a_n$和它的序号$n$有关系，所以数列$a_n$是从正整数集$N$或它的子集 到 实数集$R$的函数,自变量为$n$。记为：$a_n=f(n)$"
   ]
  },
  {
   "cell_type": "markdown",
   "id": "fcb71517-d8c1-4e29-b92a-4f8c46823a00",
   "metadata": {},
   "source": [
    "- 递增数列：每一项都大于它前一项的数列\n",
    "- 递减数列：每一项都小于它前一项的数列\n",
    "- 常数列：每一项都相等的数列\n",
    "- 通项公式：数列 $\\{a_n\\}$ 的第 $n$ 项 $a_n$ 与序号 $n$ 之间的对应关系可用一个式子来表示，式子即为数列的通项公式\n",
    "- 数列前${a_n}$前 $n$ 项和：$ S_n= a_1 + a_2 + ... + a_n$"
   ]
  },
  {
   "cell_type": "markdown",
   "id": "4dc5e293-c882-4671-a9d1-698c53ed6709",
   "metadata": {},
   "source": [
    "#### 等差数列"
   ]
  },
  {
   "cell_type": "markdown",
   "id": "ee7cbff2-0ff9-4993-ac73-b3a75b07bcd8",
   "metadata": {},
   "source": [
    "等差数列（Arithmetic Sequence）指的是一个数列中任意两个相邻项的差是一个常数，这个常数被称为等差数列的公差，通常用 $d$ 表示。\n",
    "\n",
    "##### 定义\n",
    "等差数列可以定义为一个序列 $\\{a_n\\}$，其中 $a_n$ 是序列的第 $n$ 项，且对于所有的 $n$，满足以下条件：\n",
    "$ a_{n+1} - a_n = d $\n",
    "其中 $d$ 是一个常数。\n",
    "\n",
    "##### 通项公式\n",
    "等差数列的第 $n$ 项可以通过以下公式计算：\n",
    "$ a_n = a_1 + (n-1)d $\n",
    "其中，$a_1$ 是数列的第一项，$d$ 是公差，$n$ 是项数。\n",
    "\n",
    "##### 求和公式\n",
    "等差数列的前 $n$ 项和 $S_n$ 可以通过以下公式计算：\n",
    "$ S_n = \\frac{n}{2} (a_1 + a_n) $\n",
    "或者\n",
    "$ S_n = \\frac{n}{2} [2a_1 + (n-1)d] $\n",
    "这里 $S_n$ 是前 $n$ 项的和，$a_1$ 是第一项，$d$ 是公差，$n$ 是项数。\n",
    "\n",
    "##### 等差中项\n",
    "\n",
    "如果在$a$和$b$间存在一个数使得 $2A = a+b$，则$A$为$a$和$b$的等差中项。\n",
    "\n",
    "##### 性质\n",
    "1. **对称性**：如果 $m + n = p + q$，那么 $a_m + a_n = a_p + a_q$。\n",
    "2. **等差中项**：如果 $m + n = 2p$，那么 $a_m + a_n = 2a_p$。\n",
    "3. **等差数列的任意两项的平均值等于它们中间项的值**。\n",
    "\n",
    "##### 例子\n",
    "一个简单的等差数列例子是 $2, 4, 6, 8, \\ldots$，其中第一项 $a_1 = 2$，公差 $d = 2$。\n"
   ]
  },
  {
   "cell_type": "markdown",
   "id": "ca2ca5fb-b226-4f25-820c-b69b3da2840a",
   "metadata": {},
   "source": [
    "#### 等比数列"
   ]
  },
  {
   "cell_type": "markdown",
   "id": "285569e2-8062-4c45-8644-2013022b27d8",
   "metadata": {},
   "source": [
    "等比数列（Geometric Sequence）是数学中的另一个基本概念，它指的是一个数列中任意两个相邻项的比值是一个常数，这个常数被称为等比数列的公比，通常用 $r$ 表示。\n",
    "\n",
    "##### 定义\n",
    "等比数列可以定义为一个序列 $\\{a_n\\}$，其中 $a_n$ 是序列的第 $n$ 项，且对于所有的 $n$，满足以下条件：\n",
    "$ \\frac{a_{n+1}}{a_n} = r $\n",
    "其中 $r$ 是一个常数。\n",
    "\n",
    "##### 通项公式\n",
    "等比数列的第 $n$ 项可以通过以下公式计算：\n",
    "$ a_n = a_1 \\cdot r^{n-1} $\n",
    "其中，$a_1$ 是数列的第一项，$r$ 是公比，$n$ 是项数。\n",
    "\n",
    "##### 求和公式\n",
    "等比数列的前 $n$ 项和 $S_n$ 可以通过以下公式计算：\n",
    "$ S_n = a_1 \\frac{1 - r^n}{1 - r} \\quad \\text{(当 } r \\neq 1\\text{)} $\n",
    "如果 $r = 1$，则数列中的每一项都等于 $a_1$，所以和为：\n",
    "$ S_n = n \\cdot a_1 $\n",
    "\n",
    "##### 推导过程\n",
    "我们来推导等比数列前 $n$ 项和的公式。设等比数列的前 $n$ 项和为 $S_n$，则有：\n",
    "$ S_n = a_1 + a_1r + a_1r^2 + \\ldots + a_1r^{n-1} $\n",
    "\n",
    "将等式两边同时乘以公比 $r$，得到：\n",
    "$ rS_n = a_1r + a_1r^2 + a_1r^3 + \\ldots + a_1r^n $\n",
    "\n",
    "将第一个等式从第二个等式中减去，得到：\n",
    "$ rS_n - S_n = a_1r^n - a_1 $\n",
    "$ S_n(r - 1) = a_1(r^n - 1) $\n",
    "\n",
    "由于 $r \\neq 1$，我们可以将等式两边同时除以 $r - 1$，得到：\n",
    "$ S_n = a_1 \\frac{r^n - 1}{r - 1} $\n",
    "\n",
    "这就是等比数列前 $n$ 项和的公式。\n",
    "\n",
    "##### 性质\n",
    "1. **等比中项**：如果 $m, n, p$ 满足 $m + n = 2p$，则 $a_m \\cdot a_n = a_p^2$。\n",
    "2. **等比数列的任意两项的乘积等于它们中间项的平方**。\n",
    "\n",
    "##### 例子\n",
    "一个简单的等比数列例子是 $2, 6, 18, 54, \\ldots$，其中第一项 $a_1 = 2$，公比 $r = 3$。"
   ]
  },
  {
   "cell_type": "markdown",
   "id": "7064e0f5-e096-4e68-be75-07622ede8da9",
   "metadata": {},
   "source": [
    "### 导数"
   ]
  },
  {
   "cell_type": "markdown",
   "id": "b358d7ce-a773-4dc7-b4ae-168c5762cc59",
   "metadata": {},
   "source": [
    "导数定量地刻画函数的局部变化，是研究函数增减、变化快慢、最大值、最小值等性质的基本方法，是解决如增长率、膨胀率、效率、密度、速度、加速度等实际问题的基本工具。"
   ]
  },
  {
   "cell_type": "markdown",
   "id": "9477a095-7b4b-4efb-b638-6d8470b5d99f",
   "metadata": {},
   "source": [
    "#### 平均变化率"
   ]
  },
  {
   "cell_type": "markdown",
   "id": "f3b479f4-c82f-42ce-949e-8b3b8e9f9961",
   "metadata": {},
   "source": [
    "对于函数 $y=f(x)$，设自变量$x$ 从$x_0$变化到$x_0+\\Delta{x}$，相应地值$y$就从$f(x_0)$变化到了$f(x_0+\\Delta{x})$。此时$x, y$的变化量为：\n",
    "\n",
    "$$\n",
    "\\Delta{y}=f(x_0+\\Delta{x})−f(x_0)\n",
    "$$\n",
    "\n",
    "比值 $\\frac{\\Delta{y}}{\\Delta{x}} =\\frac{f(x_0+\\Delta{x})−f(x_0)}{\\Delta{x}}$ 叫做函数 $y=f(x)$从$x_0$到 $x_0+\\Delta{x}$ 的平均变化率。\n",
    "\n",
    "**注意**：\n",
    "\n",
    "在数学中，符号 \"$\\Delta$\" 被称为 \"delta\"，读作 \"德尔塔\"。Delta 是希腊字母表中的第四个字母，大写形式为 $\\Delta$，小写形式为 $\\delta$，小写读音跟大写的一样。在数学和科学中，大写的 $\\Delta$ 常用来表示变化量或差分，而小写的 $\\delta$ 常用来表示一个非常小的变化量或微分。"
   ]
  },
  {
   "cell_type": "markdown",
   "id": "67fa0800-b085-4392-a514-7c3e93d4b34f",
   "metadata": {},
   "source": [
    "#### 导数"
   ]
  },
  {
   "cell_type": "markdown",
   "id": "b5c88748-0fa3-4ec0-a430-6c862bf50cf3",
   "metadata": {},
   "source": [
    "导数可以用平均变化率的概念来表示。对于函数 $ f(x) $ 在点 $ x $ 的导数，可以理解为函数在 $ x $ 附近的瞬时变化率，它是平均变化率在区间长度趋近于零时的极限。\n",
    "\n",
    "具体来说，函数 $ f(x) $ 在区间 $[x, x+\\Delta x]$ 上的平均变化率定义为：\n",
    "\n",
    "$ \\text{平均变化率} = \\frac{f(x + \\Delta x) - f(x)}{\\Delta x} $\n",
    "\n",
    "当 $\\Delta x \\to 0$ 时, 平均变化率$\\frac{\\Delta y}{\\Delta x}$无限趋近于一个确定的值，即$\\frac{\\Delta y}{\\Delta x}$有极限，则称$y=f(x)$在 $x = x_0$处可导，并把这个确定的值叫做$y = f(x)$在$x=x_0$处的导数(derivative)，也叫瞬时变化率，  记作 $ f'(x) $ 或 $ \\frac{df}{dx} $，或者$y'|_{x=x_{0}}$。用极限符号表示就是：\n",
    "\n",
    "$ f'(x) =\\lim_{\\Delta x \\to 0} \\frac{\\Delta y}{\\Delta x} = \\lim_{\\Delta x \\to 0} \\frac{f(x + \\Delta x) - f(x)}{\\Delta x} $\n",
    "\n",
    "这个极限过程描述了函数在某一点 $ x $ 的瞬时变化率，也就是曲线在该点的切线斜率。因此，导数可以被视为当 $\\Delta x$ 变得无限小，即接近于 0 时的平均变化率。\n"
   ]
  },
  {
   "cell_type": "markdown",
   "id": "5410e912-afb6-41b3-be4f-f6b4549aea22",
   "metadata": {},
   "source": [
    "##### 求导数示例"
   ]
  },
  {
   "cell_type": "markdown",
   "id": "a331e1cc-0fef-4588-af41-812fba156706",
   "metadata": {},
   "source": [
    "1. 设 $f(x)=\\frac{1} x$ ，求$f'(1)$"
   ]
  },
  {
   "cell_type": "markdown",
   "id": "ad15241a-fcd5-483d-8c1f-8ff394eeaaf8",
   "metadata": {},
   "source": [
    "解：\n",
    "\n",
    "$\n",
    "\\begin{aligned}\n",
    "f'(1) &= \\lim_{\\Delta x \\to 0} \\frac {f(1+\\Delta x)-f(1)} {\\Delta x}\\\\\n",
    "&= \\lim_{\\Delta x \\to 0} \\frac {\\frac {1} {1+\\Delta x } -1} {\\Delta x}\\\\\n",
    "&= \\lim_{\\Delta x \\to 0} (-\\frac 1 {1+\\Delta x})\\\\\n",
    "&=-1\n",
    "\\end{aligned}\n",
    "$\n",
    "\n"
   ]
  },
  {
   "cell_type": "markdown",
   "id": "d5daa59a-76ff-449b-83de-e763937c0925",
   "metadata": {},
   "source": [
    "2. 将原油精炼为汽油、柴油、塑胶等各种不同产，需要对原油进行冷却和加热。已知在$x$时，原油的温度为$y=f(x)=x2−7x+15,(0<=x<=8)$。计算第$2h$时、第$6h$时原油的瞬时变化率并说明它们的意义。"
   ]
  },
  {
   "cell_type": "markdown",
   "id": "4962e330-50b3-4ade-a2ef-d447d69b5a11",
   "metadata": {},
   "source": [
    "在第$2h$和第$6h$时,原油温度的瞬时变化率就是$f'(2)$和$f'(6)$。根据导数的定义:\n",
    "\n",
    "$\n",
    "\\begin{aligned}\n",
    "f'(2) &= \\frac{\\Delta y} {\\Delta x} \\\\\n",
    "&= \\frac {f(2+\\Delta x)-f(2)} {\\Delta x} \\\\\n",
    "&= \\frac{(2+\\Delta x)^2-7(2+\\Delta x)+15-(2^2-7×2+15)} {\\Delta x} \\\\\n",
    "&= \\frac{(4\\Delta x + (\\Delta x)^2-7\\Delta x)} {\\Delta x} \\\\\n",
    "&= \\Delta x - 3 \\\\\n",
    "\\end{aligned}\n",
    "$\n",
    "\n",
    "所以$f'(2) = \\lim_{\\Delta x \\rightarrow 0} \\frac {\\Delta y} {\\Delta x} = \\lim_{\\Delta x \\rightarrow 0}(\\Delta x-3) = -3$，同理可得: $f'(6) = 5$\n",
    "\n",
    "在第$2h$与第$6h$时，原油温度的瞬时变化率分别为$\\frac{-3^\\circ}{h}$与$\\frac{5^\\circ}{h}$。说明在第$2h$附近，原油温度大约以$\\frac{3^\\circ}{h}$的速度下降；在第$5h$附近,原池温度大约以$\\frac{5^\\circ}{h}$的速率上升。一般地 $f'(x_0) (0≤x_0≤8)$ 反映了原油温度在时刻$x_0$附近的变化情况\n"
   ]
  },
  {
   "cell_type": "markdown",
   "id": "e469dd0d-ee3c-4a44-99f3-273f50fc72f9",
   "metadata": {},
   "source": [
    "3. 一辆汽车在公路上沿直线变速行驶，假设$t s$时汽车的速度为$y=v(t)=−t^2+6t+60$，求汽车在第$2s$与第$6s$时的瞬时加速度，并说明他们的意义。"
   ]
  },
  {
   "cell_type": "markdown",
   "id": "4e5d7bed-a0f8-4b4a-a140-c51bd49384db",
   "metadata": {},
   "source": [
    "分析: 瞬时加速度是速度关于时间的瞬时变化率, 因此在第$2s$与第$6s$时汽车的时加速度分别为$v'(2)$, $v'(6)$\n",
    "\n",
    "解: 在第$2s$和第$6s$时，汽车的瞬时加速度就是$v'(2)$和$v'(6)$，根据导数的定义："
   ]
  },
  {
   "cell_type": "markdown",
   "id": "e7ff1a71-1b3c-4acd-a2a6-db14ad85ab38",
   "metadata": {},
   "source": [
    "$\n",
    "\\begin{aligned}\n",
    "\\frac {\\Delta y} {\\Delta t} &= \\frac {v(2+\\Delta t) - v(2)} {\\Delta t}\\\\\n",
    "&= \\frac {( 2 + \\Delta t)^2 + 6(2+\\Delta t) + 60 - (-2^2 + 6 * 2 + 60)} {\\Delta t}\\\\\n",
    "&= -\\Delta t + 2\n",
    "\\end{aligned}\n",
    "$"
   ]
  },
  {
   "cell_type": "markdown",
   "id": "257dacc8-6957-49cb-80f4-fef279737bf3",
   "metadata": {},
   "source": [
    "所以 $v'(2) = \\lim_{\\Delta t \\to 0} \\frac {\\Delta y} {\\Delta t} = \\lim_{\\Delta t \\to 0} (-\\Delta t + 2) =2$。同理可得: $v'(6)=-6$。"
   ]
  },
  {
   "cell_type": "markdown",
   "id": "16bd4db1-7a13-4b74-8b49-78e8f173aa6a",
   "metadata": {},
   "source": [
    "在第$2s$与第$6s$时,汽车的瞬时加速度分别是$2m/s^2$与$-6m/s^2$. 说明在第$2s$附近汽车的速度每秒大约增加$2m/s$; 在第$6s$附近,汽车的速度每秒大约减少$6m/s$。\n",
    "\n",
    "**注意**：\n",
    "\n",
    "加速度是用来描述速度随时间的变化率。加速度是一个矢量量，这意味着它既有大小也有方向。加速度的方向与速度变化的方向相同。加速度可以是正的、负的或零，分别表示速度增加、减少或保持不变。数学定义如下：\n",
    "\n",
    "加速度 $a$ 定义为速度 $v$ 对时间 $t$ 的导数，即：\n",
    "\n",
    "$a = \\frac{dv}{dt} $\n",
    "\n",
    "其中，$v$ 是速度，$t 是时间。\n"
   ]
  },
  {
   "cell_type": "markdown",
   "id": "1b78f2d8-2864-496d-8c28-7d70703ee35e",
   "metadata": {},
   "source": [
    "#### 导数的运算"
   ]
  },
  {
   "cell_type": "markdown",
   "id": "56747350-3ae5-422c-b798-965e588c499d",
   "metadata": {},
   "source": [
    "1. 常用函数的导数"
   ]
  },
  {
   "cell_type": "markdown",
   "id": "b1ad5b5c-8925-42a1-a2c6-932316eb907b",
   "metadata": {},
   "source": [
    "$\n",
    "\\begin{aligned}\n",
    "1)\\ y&=f(x)=c\\\\\n",
    "f'(x) &= \\frac {\\Delta  y} {\\Delta  x} = \\frac {f(x+\\Delta  x) - f(x)} {\\Delta  x} = \\frac {c-c} {\\Delta  x} = 0\n",
    "\\end{aligned}\n",
    "$\n"
   ]
  },
  {
   "cell_type": "markdown",
   "id": "5bb0808d-434c-47aa-9bde-ec8ee4b216cb",
   "metadata": {},
   "source": [
    "$\n",
    "\\begin{aligned}\n",
    "2)\\ y&=f(x)=x\\\\\n",
    "f'(x) &= \\frac {\\Delta y} {\\Delta x} = \\frac {f(x+\\Delta x) - f(x)} {\\Delta x} = \\frac {(x+\\Delta x-x)} {\\Delta x} = 1\n",
    "\\end{aligned}\n",
    "$\n"
   ]
  },
  {
   "cell_type": "markdown",
   "id": "b8ffbee0-ac81-4713-a2f3-873dc9a4da92",
   "metadata": {},
   "source": [
    "$\n",
    "\\begin{aligned}\n",
    "3)\\ y&=f(x)=x^2\\\\\n",
    "y' &=\\frac {\\Delta y} {\\Delta x} \\\\\n",
    "&= \\frac {f(x+\\Delta x)-f(x)}  {\\Delta x} \\\\\n",
    "&= \\frac {(x+\\Delta x)^2-x^2} {\\Delta x}\\\\\n",
    "&= \\frac {x^2 + 2x * \\Delta x + (\\Delta x)^2 - x^2} {\\Delta x} \\\\\n",
    "&= 2x + \\Delta x\n",
    "\\end{aligned}\n",
    "$\n",
    "\n",
    "所以$y' = \\lim_{\\Delta x \\to 0} \\frac {\\Delta y} {\\Delta x} = \\lim_{\\Delta x \\to 0} (2x + \\Delta x) = 2x$\n"
   ]
  },
  {
   "cell_type": "markdown",
   "id": "2b8803fd-62d3-4c04-a8c1-6dd56965dbf7",
   "metadata": {},
   "source": [
    "$\n",
    "\\begin{aligned}\n",
    "4)\\ y&=f(x)=\\frac 1 x\\\\\n",
    "\\frac {\\Delta y} {\\Delta x} &= \\frac {f(x+\\Delta x) - f(x)} {\\Delta x}\\\\ \n",
    "&= \\frac 1 {x+\\Delta x - 1/x }  {\\Delta x}\\\\\n",
    "&= \\frac {x - (x + \\Delta x)}  {x (x + \\Delta x) \\Delta x}\\\\\n",
    "&= - \\frac 1 {x^2 + x * \\Delta x}\n",
    "\\end{aligned}\n",
    "$\n",
    "\n",
    "所以$y' = \\lim_{\\Delta x \\to 0} \\frac {\\Delta y} {\\Delta x} = \\lim_{\\Delta x \\to 0} \\frac {- 1} {x^2 + x * \\Delta x} = - \\frac 1 {x^2}$\n",
    "\n",
    "\n"
   ]
  },
  {
   "cell_type": "markdown",
   "id": "2ae67538-9e82-43e2-af84-a4b2c7f045b3",
   "metadata": {},
   "source": [
    "$\n",
    "\\begin{aligned}\n",
    "5)\\ y&=f(x)=\\sqrt x\\\\\n",
    "\\frac {\\Delta y} {\\Delta x}\n",
    "&= \\frac {f(x+\\Delta x) - f(x)} {\\Delta x}\\\\\n",
    "&=\\frac {\\sqrt {x+\\Delta x} - \\sqrt x} {\\Delta x}\\\\\n",
    "&= \\frac 1  {\\sqrt {x+\\Delta x} + \\sqrt x}\n",
    "\\end{aligned}\n",
    "$\n",
    "\n",
    "所以$y' = \\lim_{\\Delta x \\to 0} \\frac {\\Delta y} {\\Delta x} = \\lim_{\\Delta x \\to 0} \\frac 1  {\\sqrt {x+\\Delta x} + \\sqrt x} = \\frac 1 {2\\sqrt x}$"
   ]
  },
  {
   "cell_type": "markdown",
   "id": "9d9ad755-1efc-4408-a732-ec57d946a9e5",
   "metadata": {},
   "source": [
    "#### 基本初等函数的导数公式"
   ]
  },
  {
   "cell_type": "markdown",
   "id": "9d294dd2-df92-480c-adfd-ad8deb59ee9c",
   "metadata": {},
   "source": [
    "基本初等函数是一类在数学中非常重要的函数，它们通常在初等数学和高等数学的入门课程中被介绍。这些函数因其简单性、基础性以及在数学和科学中的广泛应用而被称为“基本”。以下是一些最常见的基本初等函数：\n",
    "\n",
    "1. **常数函数**：\n",
    "   - $ f(x) = c $，其中 $ c $ 是一个常数。\n",
    "\n",
    "2. **幂函数**：\n",
    "   - $ f(x) = x^n $，其中 $ n $ 是实数，包括正整数、负整数和分数。\n",
    "\n",
    "3. **指数函数**：\n",
    "   - $ f(x) = a^x $，其中 $ a > 0 $ 且 $ a \\neq 1 $。\n",
    "\n",
    "4. **对数函数**：\n",
    "   - $ f(x) = \\log_a(x) $，其中 $ a > 0 $，$ a \\neq 1 $，且 $ x > 0 $。\n",
    "\n",
    "5. **三角函数**：\n",
    "   - 正弦函数：$ f(x) = \\sin(x) $\n",
    "   - 余弦函数：$ f(x) = \\cos(x) $\n",
    "   - 正切函数：$ f(x) = \\tan(x) $\n",
    "   - 以及它们的反函数：反正弦函数、反余弦函数和反正切函数。\n",
    "\n",
    "6. **反三角函数**（也称为弧函数）：\n",
    "   - $ f(x) = \\arcsin(x) $\n",
    "   - $ f(x) = \\arccos(x) $\n",
    "   - $ f(x) = \\arctan(x) $\n",
    "\n",
    "7. **线性函数**：\n",
    "   - $ f(x) = mx + b $，其中 $ m $ 和 $ b $ 是常数。\n",
    "\n",
    "8. **绝对值函数**：\n",
    "   - $ f(x) = |x| $\n",
    "\n",
    "9. **符号函数**：\n",
    "   - $ f(x) = \\text{sgn}(x) $，返回 $ x $ 的符号，正数为 1，负数为 -1，零为 0。\n",
    "\n",
    "这些基本初等函数可以**通过加、减、乘、除等运算组合成更复杂的函数，称为初等函数**。初等函数包括所有可以通过有限次的初等运算（包括指数和对数）以及有限次的复合运算得到的函数。\n"
   ]
  },
  {
   "cell_type": "markdown",
   "id": "37bb6973-e212-4c01-9a0c-78387886596b",
   "metadata": {},
   "source": [
    "基本初等函数的导数公式：\n",
    "1. 若$f(x)=c$($c$为常数)，则$f'(x)=0$\n",
    "2. 若$f(x)=nx(n \\in Q)$，则$f'(x)=n$\n",
    "3. 若$f(x)=sinx$，则 $f'(x)=cosx$\n",
    "4. 若$f(x)=cosx$，则$f'(x)=-sinx$\n",
    "5. 若$f(x)=a^x$，则$f'(x)=a^x \\ln{a}$，其中$ a $ 是一个大于0且不等于1的常数\n",
    "6. 若$f(x)=e^x$，则$f'(x)=e^x$; **自然指数函数 e^x 的导数是其自身**\n",
    "7. 若$f(x)=\\log_a x$，则 $\\frac{1}{x \\ln{a}}$，其中 $a$ 是一个大于0且不等于1的常数\n",
    "8. 若$f(x)=\\ln x$，则$f'(x)=\\frac{1}{x}$"
   ]
  },
  {
   "cell_type": "markdown",
   "id": "c5e6ae6b-f856-4d20-94b9-6b32bd2cab8e",
   "metadata": {},
   "source": [
    "#### 导数运算法则"
   ]
  },
  {
   "cell_type": "markdown",
   "id": "3f805293-cdcb-4184-a149-d07f6c35112a",
   "metadata": {},
   "source": [
    "以下是一些常用的导数运算法则：\n",
    "\n",
    "1. **幂法则**：\n",
    "   如果 $ f(x) = x^n $，其中 $ n $ 是实数，则 $ f'(x) = nx^{n-1} $。\n",
    "\n",
    "2. **常数法则**：\n",
    "   如果 $ f(x) = c $，其中 $ c $ 是常数，则 $ f'(x) = 0 $。\n",
    "\n",
    "3. **和法则**：\n",
    "   如果 $ f(x) = g(x) + h(x) $，则 $ f'(x) = g'(x) + h'(x) $。\n",
    "\n",
    "4. **差法则**：\n",
    "   如果 $ f(x) = g(x) - h(x) $，则 $ f'(x) = g'(x) - h'(x) $。\n",
    "\n",
    "5. **常数倍法则**：\n",
    "   如果 $ f(x) = c \\cdot g(x) $，其中 $ c $ 是常数，则 $ f'(x) = c \\cdot g'(x) $。\n",
    "\n",
    "6. **乘积法则**：\n",
    "   如果 $ f(x) = g(x) \\cdot h(x) $，则 $ f'(x) = g'(x) \\cdot h(x) + g(x) \\cdot h'(x) $。\n",
    "\n",
    "7. **商法则**：\n",
    "   如果 $ f(x) = \\frac{g(x)}{h(x)} $，则 $ f'(x) = \\frac{g'(x) \\cdot h(x) - g(x) \\cdot h'(x)}{[h(x)]^2} $。\n",
    "\n",
    "8. **链式法则**：\n",
    "   如果 $ f(x) = g(h(x)) $，则 $ f'(x) = g'(h(x)) \\cdot h'(x) $。\n",
    "\n",
    "9. **反函数法则**：\n",
    "   如果 $ y = f^{-1}(x) $，则 $ \\frac{dy}{dx} = \\frac{1}{f'(f^{-1}(x))} $。\n",
    "\n",
    "10. **复合函数法则**（链式法则的另一种表述）：\n",
    "    如果 $ y = f(g(x)) $，则 $ \\frac{dy}{dx} = f'(g(x)) \\cdot g'(x) $。\n",
    "\n",
    "这些法则是微积分中求导的基础，它们可以组合使用来求更复杂函数的导数。掌握这些运算法则对于解决微积分问题至关重要。\n"
   ]
  },
  {
   "cell_type": "markdown",
   "id": "5261fcc8-f4a7-4700-afab-f763c12c5ca6",
   "metadata": {},
   "source": [
    "#### 导数在研究函数中的应用"
   ]
  },
  {
   "cell_type": "markdown",
   "id": "19567532-56b2-41be-9ad5-67f2bca16188",
   "metadata": {},
   "source": [
    "##### 函数的单调性\n",
    "在某个区间$(a,b)$内, 如果$f'(x)>0$,那么函数$y=f(x)$在这个区间内单调递增; 如果$f'(x)<0$,那么函数$y=f(x)$在这个区间内单调递减"
   ]
  },
  {
   "cell_type": "markdown",
   "id": "1150b9fc-c61c-403a-b6e0-11202a6a6365",
   "metadata": {},
   "source": [
    "##### 函数的极值与导数\n",
    "\n",
    "求函数$y=f(x)$的极值的方法是:\n",
    "\n",
    "解方程$f'(x)=0$. 当$f(x_0)=0$时:\n",
    "(1) 如果在$x_0$附近的左侧$f'(x)>0$，右侧$f'(x)<0$,那么$f(x_0)$是极大值;\n",
    "(2) 如果在$x_0$附近的左侧$f'(x)<0$,右侧$f'(x)>0$,那么$f(x_0)$是极小值"
   ]
  },
  {
   "cell_type": "markdown",
   "id": "6818fc86-cfae-492b-a6a2-fafee8075d68",
   "metadata": {},
   "source": [
    "### 定积分"
   ]
  },
  {
   "cell_type": "markdown",
   "id": "c56cd7ff-eba6-41a3-a4b8-74e6885eabc9",
   "metadata": {},
   "source": [
    "定积分是微积分中的一个核心概念，它表示在指定区间内函数与x轴之间的有符号面积，或者更一般地，表示函数在该区间上的累积效应。定积分通常用于计算面积、体积、功、概率以及其他各种物理和工程问题中的量。\n",
    "\n",
    "#### 定义\n",
    "\n",
    "如果 $ f(x) $ 是区间 $[a, b]$ 上的连续函数，定积分 $\\int_{a}^{b} f(x) \\, dx$ 表示从 $ x = a $ 到 $ x = b $ 曲线 $ y = f(x) $ 下方的面积。这里的 $ dx $ 表示积分变量的微分，而 $[a, b]$ 是积分的上下限。\n",
    "\n",
    "#### 几何解释\n",
    "\n",
    "1. **面积解释**：如果 $ f(x) \\geq 0 $ 在 $[a, b]$ 上，那么 $\\int_{a}^{b} f(x) \\, dx$ 表示曲线 $ y = f(x) $、x轴以及垂直线 $ x = a $ 和 $ x = b $ 之间的面积。\n",
    "2. **有符号面积**：如果 $ f(x) $ 在 $[a, b]$ 上取正值和负值，那么定积分表示的是x轴上方面积减去x轴下方面积的净结果。\n",
    "\n",
    "#### 计算方法\n",
    "\n",
    "1. **黎曼和**：定积分可以通过黎曼和的概念来近似计算。将区间 $[a, b]$ 分成 $ n $ 个小区间，每个小区间的宽度为 $\\Delta x$，然后计算每个小区间的矩形面积之和，当 $ n $ 趋向于无穷大时，这个和趋向于定积分的值。\n",
    "2. **微积分基本定理**：如果 $ F(x) $ 是 $ f(x) $ 的一个原函数（即 $ F'(x) = f(x) $），那么 $\\int_{a}^{b} f(x) \\, dx = F(b) - F(a)$。这个定理提供了一种计算定积分的实用方法。"
   ]
  },
  {
   "cell_type": "markdown",
   "id": "4494be6c-1812-42dd-b1e8-7a2ad04fdae2",
   "metadata": {},
   "source": [
    "下面是$f(x)=x^2$，在区间 $[0,0.8]$ 上的定积分之间的示意图："
   ]
  },
  {
   "cell_type": "code",
   "execution_count": 34,
   "id": "331e4b5e-a804-46ff-ab26-ea3740911175",
   "metadata": {},
   "outputs": [
    {
     "data": {
      "image/png": "[encoded data removed]",
      "text/plain": [
       "<Figure size 800x600 with 1 Axes>"
      ]
     },
     "metadata": {},
     "output_type": "display_data"
    }
   ],
   "source": [
    "import numpy as np\n",
    "import matplotlib.pyplot as plt\n",
    "\n",
    "# 定义函数 f(x) = x^2\n",
    "def f(x):\n",
    "    return x**2\n",
    "\n",
    "# 生成x的值\n",
    "x = np.linspace(0, 1, 100)  # 从0到1生成100个点\n",
    "\n",
    "# 计算对应的y值\n",
    "y = f(x)\n",
    "\n",
    "# 计算定积分的值，即曲线下面积从0到0.8\n",
    "area = np.trapezoid(y[:81], x[:81])  # 使用梯形法则计算定积分，只取前81个点\n",
    "\n",
    "# 绘制函数图像\n",
    "plt.figure(figsize=(8, 6))\n",
    "plt.plot(x, y, label='f(x) = x^2')\n",
    "\n",
    "# 填充定积分区域\n",
    "plt.fill_between(x[:81], y[:81], alpha=0.4)  # 只填充从0到0.8的部分\n",
    "\n",
    "# 显示定积分值\n",
    "plt.text(0.4, 0.16, f'Area = {area:.2f}', horizontalalignment='center', verticalalignment='center')\n",
    "\n",
    "# 添加图例\n",
    "plt.legend()\n",
    "\n",
    "# 添加网格\n",
    "plt.grid(True)\n",
    "\n",
    "# 添加x和y轴标签\n",
    "plt.xlabel('x')\n",
    "plt.ylabel('f(x)')\n",
    "\n",
    "# 显示图形\n",
    "plt.show()"
   ]
  },
  {
   "cell_type": "markdown",
   "id": "328c4dc7-54ae-418d-9c16-e3e2b56dd351",
   "metadata": {},
   "source": [
    "#### 定积分推导"
   ]
  },
  {
   "cell_type": "markdown",
   "id": "cf90fced-032c-49c5-9b24-12612d259570",
   "metadata": {},
   "source": [
    "定积分的推导通常基于黎曼和的概念，这是一个将区间分割成许多小矩形来近似曲线下面积的过程。以下是定积分推导的基本步骤：\n",
    "\n",
    "1. **分割区间**：\n",
    "   将区间 $[a, b]$ 分割成 $n$ 个小区间，每个小区间的宽度为 $\\Delta x = \\frac{b - a}{n}$。\n",
    "\n",
    "2. **选择样本点**：\n",
    "   在每个小区间的右端点、左端点或中点选择一个样本点 $x_i$，其中 $x_i = a + i\\Delta x$。\n",
    "\n",
    "3. **形成黎曼和**：\n",
    "   使用样本点的函数值和小区间的宽度形成黎曼和：\n",
    "   $ S_n = \\sum_{i=1}^{n} f(x_i) \\Delta x $\n",
    "   这个和表示 $n$ 个矩形的面积之和，每个矩形的高度为 $f(x_i)$，宽度为 $\\Delta x$。\n",
    "\n",
    "4. **取极限**：\n",
    "   当 $n$ 趋向于无穷大时，每个小区间的宽度 $\\Delta x$ 趋向于零，黎曼和趋向于定积分的精确值：\n",
    "   $ \\int_{a}^{b} f(x) \\, dx = \\lim_{n \\to \\infty} \\sum_{i=1}^{n} f(x_i) \\Delta x $\n",
    "\n",
    "5. **微积分基本定理**：\n",
    "   如果 $f(x)$ 在 $[a, b]$ 上连续，并且 $F(x)$ 是 $f(x)$ 的一个原函数（即 $F'(x) = f(x)$），那么定积分可以被计算为：\n",
    "   $ \\int_{a}^{b} f(x) \\, dx = F(b) - F(a) $\n",
    "   这个定理提供了一种使用原函数来计算定积分的方法。\n",
    "\n",
    "6. **几何解释**：\n",
    "   定积分的几何解释是函数 $f(x)$ 在区间 $[a, b]$ 上的曲线与 x 轴之间的有符号面积。如果 $f(x)$ 在 $[a, b]$ 上非负，则定积分直接给出了面积；如果 $f(x)$ 取正值和负值，则定积分给出了净面积（x轴上方的面积减去x轴下方的面积）。\n",
    "\n",
    "这个推导过程展示了如何从离散的求和过渡到连续的积分，并且解释了为什么定积分可以用来计算曲线下的面积。定积分的这种推导是微积分中的一个重要里程碑，它连接了极限、连续性和积分的概念。\n"
   ]
  },
  {
   "cell_type": "markdown",
   "id": "9e88b360-c8e7-48b7-bc05-55af2c481e36",
   "metadata": {},
   "source": [
    "## 矩阵"
   ]
  },
  {
   "cell_type": "markdown",
   "id": "2af3c425-6d05-4366-a236-e85a23824d79",
   "metadata": {},
   "source": [
    "### 矩阵与向量"
   ]
  },
  {
   "cell_type": "markdown",
   "id": "2d531ca8-1d53-44f1-a7ee-10fd00b9117e",
   "metadata": {},
   "source": [
    "#### 1. 矩阵"
   ]
  },
  {
   "cell_type": "markdown",
   "id": "d749fba9-6d5b-4336-a915-a7bb35e37e96",
   "metadata": {},
   "source": [
    "矩阵是矩形的数组。\n",
    "\n",
    "- 矩阵表示：$A = (a_{ij})$, 其中$i$=1, 2; $j$=1,2,3。\n",
    "- 矩阵元素表示：第$i$行，第$j$列的元素通常表示为$a_{ij}$。用大写字母表示矩阵，用小写字母表示矩阵中的元素。\n",
    "- 矩阵集合：用$R^{m×n}$ 所有元素为实数的$m \\times n$矩阵集合。\n",
    "- 矩阵来自集合表示：元素来自集合$S$的$m \\times n$ 矩阵的集合可用$S^{m×n}$表示。"
   ]
  },
  {
   "cell_type": "markdown",
   "id": "36728cc9-e1df-4844-a465-21466e2437da",
   "metadata": {},
   "source": []
  },
  {
   "cell_type": "markdown",
   "id": "ff1c2b22-c671-4846-b472-c58725348027",
   "metadata": {},
   "source": [
    "#### 2. 矩阵转置\n",
    "\n",
    "交换矩阵的行和列，获得的矩阵是矩阵$A$的转置$A^T$"
   ]
  },
  {
   "cell_type": "markdown",
   "id": "de6ccfba-5cde-4f40-9b4b-8b841ba72b42",
   "metadata": {},
   "source": [
    "$$\n",
    "A =\\begin{bmatrix}\n",
    "a_{11} & a_{12} & a_{13} \\\\\n",
    "a_{21} & a_{22} & a_{23} \\\\\n",
    "\\end{bmatrix} = \\begin{bmatrix}\n",
    "1 & 2 & 3 \\\\\n",
    "4 & 5 & 6 \\\\\n",
    "\\end{bmatrix}\n",
    "$$\n",
    "\n",
    "$$\n",
    "A^T = \\begin{bmatrix}\n",
    "a_{11} & a_{21} \\\\\n",
    "a_{12} & a_{22} \\\\\n",
    "a_{13} & a_{23} \\\\\n",
    "\\end{bmatrix} = \\begin{bmatrix}\n",
    "1 & 4 \\\\\n",
    "2 & 5 \\\\\n",
    "3 & 6 \\\\\n",
    "\\end{bmatrix}\n",
    "$$\n"
   ]
  },
  {
   "cell_type": "markdown",
   "id": "5b71656b-d0b9-4a18-8360-12516370cdcc",
   "metadata": {},
   "source": [
    "#### 3. 向量"
   ]
  },
  {
   "cell_type": "markdown",
   "id": "125caa8b-2e5e-4e5b-9624-d56ab1da2719",
   "metadata": {},
   "source": [
    "向量是一维数组。长度为n的向量称为n向量，用$x_i$表示向量中第$i$个元素，其中$i=1,2,3..n$。将向量的标准形式定义为列向量，是$n \\times 1$的矩阵，转置后是行向量。"
   ]
  },
  {
   "cell_type": "markdown",
   "id": "57a68719-6946-4e46-a4ec-6f37a443d7ea",
   "metadata": {},
   "source": [
    "$$\n",
    "x = \\begin{bmatrix}\n",
    "2 \\\\\n",
    "3 \\\\\n",
    "5\n",
    "\\end{bmatrix}\n",
    "$$\n",
    "\n",
    "$$\n",
    "x^T = \\begin{bmatrix}\n",
    "2 & 3 & 5\n",
    "\\end{bmatrix}\n",
    "$$"
   ]
  },
  {
   "cell_type": "markdown",
   "id": "88b3882b-4999-43b4-9215-ef6490cd65fc",
   "metadata": {},
   "source": [
    "单位向量：$e_i$是除第$i$个元素为1，其他均为0的向量。"
   ]
  },
  {
   "cell_type": "markdown",
   "id": "afeece60-0b7b-4dec-a7b3-d3a862904314",
   "metadata": {},
   "source": [
    "### 各种矩阵"
   ]
  },
  {
   "cell_type": "markdown",
   "id": "a797321d-1478-4a6d-aa8e-ec1a5f35447f",
   "metadata": {},
   "source": [
    "#### 零矩阵\n",
    "\n",
    "零矩阵（Zero Matrix）是一个所有元素都是零的矩阵。\n",
    "\n",
    "零矩阵可以用不同的方式表示，最常见的表示方法包括：\n",
    "\n",
    "1. **符号表示**：\n",
    "   - $ \\mathbf{0} $：表示一个未指定大小的零矩阵。\n",
    "   - $ \\mathbf{0}_{m \\times n} $：表示一个 $ m \\times n $ 的零矩阵。\n",
    "\n",
    "2. **数学表示**：\n",
    "   $$ \\mathbf{0}_{m \\times n} = \\begin{bmatrix}\n",
    "   0 & 0 & \\cdots & 0 \\\\\n",
    "   0 & 0 & \\cdots & 0 \\\\\n",
    "   \\vdots & \\vdots & \\ddots & \\vdots \\\\\n",
    "   0 & 0 & \\cdots & 0\n",
    "   \\end{bmatrix}_{m \\times n} $$\n",
    "\n",
    "##### 性质\n",
    "1. **加法单位元**：零矩阵是矩阵加法的单位元，即对于任何 $ m \\times n $ 矩阵 $ A $，有 $ A + \\mathbf{0}_{m \\times n} = A $。\n",
    "2. **乘法零元**：零矩阵与任何矩阵相乘的结果都是零矩阵，即 $ A \\mathbf{0}_{n \\times p} = \\mathbf{0}_{m \\times p} $ 和 $ \\mathbf{0}_{m \\times n} B = \\mathbf{0}_{m \\times p} $，其中 $ A $ 是 $ m \\times n $ 矩阵，$ B $ 是 $ n \\times p $ 矩阵。\n"
   ]
  },
  {
   "cell_type": "markdown",
   "id": "7b4c893e-368d-4640-acc7-334701fc266c",
   "metadata": {},
   "source": [
    "#### 方阵\n",
    "\n",
    "$n \\times n$的矩阵称为方阵"
   ]
  },
  {
   "cell_type": "markdown",
   "id": "6b939589-d809-4537-b243-1913e0c6d4db",
   "metadata": {},
   "source": [
    "#### 对角矩阵\n",
    "\n",
    "对角矩阵（Diagonal Matrix）是方阵（即行数和列数相等的矩阵）中的一种特殊类型，其特点是除了主对角线上的元素外，所有其他元素都是零。主对角线上的元素可以是任意实数或复数。"
   ]
  },
  {
   "cell_type": "markdown",
   "id": "5b57ff06-51c5-48b4-939c-601adaa51848",
   "metadata": {},
   "source": [
    "##### 定义\n",
    "如果矩阵 $ A $ 的大小为 $ n \\times n $，且对于所有的 $ i \\neq j $，都有 $ a_{ij} = 0 $，则称 $ A $ 为对角矩阵。这里，$ a_{ij} $ 表示矩阵 $ A $ 中第 $ i $ 行第 $ j $ 列的元素。\n",
    "\n",
    "##### 数学表示\n",
    "\n",
    "对角矩阵可以表示为：\n",
    "$$ A = \\begin{bmatrix}\n",
    "a_{11} & 0 & \\cdots & 0 \\\\\n",
    "0 & a_{22} & \\cdots & 0 \\\\\n",
    "\\vdots & \\vdots & \\ddots & \\vdots \\\\\n",
    "0 & 0 & \\cdots & a_{nn}\n",
    "\\end{bmatrix} $$\n",
    "其中，$ a_{11}, a_{22}, \\ldots, a_{nn} $ 是主对角线上的元素。"
   ]
  },
  {
   "cell_type": "markdown",
   "id": "7eb024f3-2691-49ab-955b-6d0b92d8b561",
   "metadata": {},
   "source": [
    "#### 单位矩阵"
   ]
  },
  {
   "cell_type": "markdown",
   "id": "4691b010-54af-4772-a132-68b8fbebfc3a",
   "metadata": {},
   "source": [
    "单位矩阵（Identity Matrix），通常表示为 $ I $ 或 $ I_n $（其中 $ n $ 是矩阵的大小），是一种特殊的对角矩阵。它的所有主对角线上的元素都是1，而所有非对角线上的元素都是0。单位矩阵在矩阵乘法中充当乘法单位元，类似于数的乘法中的数字1。\n",
    "\n",
    "##### 定义\n",
    "单位矩阵是一个 $ n \\times n $ 的方阵，其中所有对角线元素 $ a_{ii} $ 都是1，所有非对角线元素 $ a_{ij} $（$ i \\neq j $）都是0。\n",
    "\n",
    "##### 数学表示\n",
    "单位矩阵可以表示为：\n",
    "$$\n",
    "I_n = \\begin{bmatrix}\n",
    "1 & 0 & \\cdots & 0 \\\\\n",
    "0 & 1 & \\cdots & 0 \\\\\n",
    "\\vdots & \\vdots & \\ddots & \\vdots \\\\\n",
    "0 & 0 & \\cdots & 1\n",
    "\\end{bmatrix}_{n \\times n}\n",
    "$$\n",
    "\n",
    "### 性质\n",
    "1. **乘法单位元**：对于任何 $ n \\times n $ 矩阵 $ A $，有 $ A \\cdot I_n = I_n \\cdot A = A $。\n",
    "2. **逆矩阵**：单位矩阵是它自己的逆矩阵，即 $ I_n^{-1} = I_n $。\n",
    "3. **特征值**：单位矩阵的所有特征值都是1。\n",
    "4. **行列式**：单位矩阵的行列式是1。\n",
    "5. **迹**：单位矩阵的迹（即所有对角线元素的和）是 $ n $。"
   ]
  },
  {
   "cell_type": "markdown",
   "id": "1159d22b-3426-4a9a-b863-4e75561a78c0",
   "metadata": {},
   "source": [
    "#### 对称矩阵\n",
    "\n",
    "若一个矩阵转置后 $A=A^T$，则$A$是对称矩阵。\n",
    "\n",
    "$$\n",
    "A=\\begin{bmatrix}\n",
    "1 & 2 & 3 \\\\\n",
    "2 & 6 & 4 \\\\\n",
    "3 & 4 & 5 \\\\\n",
    "\\end{bmatrix}\n",
    "$$"
   ]
  },
  {
   "cell_type": "markdown",
   "id": "00841d3b-ffd4-4b3a-98b4-6685e3d46ff7",
   "metadata": {},
   "source": [
    "### 矩阵基本操作"
   ]
  },
  {
   "cell_type": "markdown",
   "id": "477fdd56-4fad-4024-ad53-f69aa78a4070",
   "metadata": {},
   "source": [
    "#### 矩阵加法\n",
    "\n",
    "矩阵加法是线性代数中的一种基本运算，只有当两个矩阵具有相同的维度时，它们才能进行加法运算。\n",
    "\n",
    "##### 定义\n",
    "如果有两个相同大小的矩阵 $A $ 和 $B $，它们都是 $m \\times n $ 的矩阵，那么矩阵 $A $ 和 $B $ 的和，记作 $C = A + B $，也是一个 $m \\times n $ 的矩阵，其中每个元素 $c_{ij} $ 由下式给出：\n",
    "$$ c_{ij} = a_{ij} + b_{ij} $$\n",
    "这里，$a_{ij} $ 是矩阵 $A $ 中第 $i $ 行第 $j $ 列的元素，$b_{ij} $ 是矩阵 $B $ 中第 $i $ 行第 $j $ 列的元素，而 $c_{ij} $ 是结果矩阵 $C $ 中对应的元素。\n",
    "\n",
    "##### 数学表示\n",
    "假设矩阵 $A $ 和 $B $ 是：\n",
    "$$\n",
    "A = \\begin{bmatrix}\n",
    "a_{11} & a_{12} & \\cdots & a_{1n} \\\\\n",
    "a_{21} & a_{22} & \\cdots & a_{2n} \\\\\n",
    "\\vdots & \\vdots & \\ddots & \\vdots \\\\\n",
    "a_{m1} & a_{m2} & \\cdots & a_{mn}\n",
    "\\end{bmatrix}\n",
    "$$\n",
    "$$\n",
    "B = \\begin{bmatrix}\n",
    "b_{11} & b_{12} & \\cdots & b_{1n} \\\\\n",
    "b_{21} & b_{22} & \\cdots & b_{2n} \\\\\n",
    "\\vdots & \\vdots & \\ddots & \\vdots \\\\\n",
    "b_{m1} & b_{m2} & \\cdots & b_{mn}\n",
    "\\end{bmatrix} \n",
    "$$\n",
    "那么它们的和 $C = A + B $ 是：\n",
    "\n",
    "$$\n",
    "C = \\begin{bmatrix}\n",
    "a_{11} + b_{11} & a_{12} + b_{12} & \\cdots & a_{1n} + b_{1n} \\\\\n",
    "a_{21} + b_{21} & a_{22} + b_{22} & \\cdots & a_{2n} + b_{2n} \\\\\n",
    "\\vdots & \\vdots & \\ddots & \\vdots \\\\\n",
    "a_{m1} + b_{m1} & a_{m2} + b_{m2} & \\cdots & a_{mn} + b_{mn}\n",
    "\\end{bmatrix} \n",
    "$$\n",
    "\n",
    "##### 性质\n",
    "1. **交换律**：$A + B = B + A $。\n",
    "2. **结合律**：$(A + B) + C = A + (B + C) $。\n",
    "3. **加法单位元**：存在一个零矩阵 $\\mathbf{0} $，使得对于任何矩阵 $A $，有 $A + \\mathbf{0} = A $。\n",
    "4. **加法逆元**：对于每一个矩阵 $A $，存在一个矩阵 $-A $，使得 $A + (-A) = \\mathbf{0} $。\n"
   ]
  },
  {
   "cell_type": "markdown",
   "id": "b77cd168-21ab-4ad9-be24-cd1f84663735",
   "metadata": {},
   "source": [
    "#### 矩阵数乘\n",
    "\n",
    "矩阵数乘，也称为标量乘法，是指将矩阵的每一个元素乘以一个标量（即一个单独的数字）。这个操作的结果是一个新矩阵，其维度与原矩阵相同，但每个元素都是原矩阵对应元素与该标量的乘积。\n",
    "\n",
    "##### 定义\n",
    "如果有一个 $ m \\times n $ 的矩阵 $ A $ 和一个标量 $ k $，矩阵数乘的结果是一个同样大小的 $ m \\times n $ 矩阵 $ B $，其中每个元素 $ b_{ij} $ 由下式给出：\n",
    "$$ b_{ij} = k \\cdot a_{ij} $$\n",
    "这里，$ a_{ij} $ 是矩阵 $ A $ 中第 $ i $ 行第 $ j $ 列的元素，而 $ b_{ij} $ 是结果矩阵 $ B $ 中对应的元素。\n",
    "\n",
    "##### 数学表示\n",
    "假设矩阵 $ A $ 是：\n",
    "$$\n",
    "A = \\begin{bmatrix}\n",
    "a_{11} & a_{12} & \\cdots & a_{1n} \\\\\n",
    "a_{21} & a_{22} & \\cdots & a_{2n} \\\\\n",
    "\\vdots & \\vdots & \\ddots & \\vdots \\\\\n",
    "a_{m1} & a_{m2} & \\cdots & a_{mn}\n",
    "\\end{bmatrix}\n",
    "$$\n",
    "那么标量 $ k $ 与矩阵 $ A $ 的数乘结果是：\n",
    "$$ kA = \\begin{bmatrix}\n",
    "k \\cdot a_{11} & k \\cdot a_{12} & \\cdots & k \\cdot a_{1n} \\\\\n",
    "k \\cdot a_{21} & k \\cdot a_{22} & \\cdots & k \\cdot a_{2n} \\\\\n",
    "\\vdots & \\vdots & \\ddots & \\vdots \\\\\n",
    "k \\cdot a_{m1} & k \\cdot a_{m2} & \\cdots & k \\cdot a_{mn}\n",
    "\\end{bmatrix} $$\n",
    "\n",
    "##### 性质\n",
    "1. **分配律**：$ k(A + B) = kA + kB $，其中 $ A $ 和 $ B $ 是同样大小的矩阵。\n",
    "2. **结合律**：$ (k \\cdot l)A = k(lA) $，其中 $ k $ 和 $ l $ 是标量。\n",
    "3. **恒等律**：$ 1A = A $，其中 1 是标量。\n"
   ]
  },
  {
   "cell_type": "markdown",
   "id": "aa123160-ac0d-44d9-9a66-dcd9421e3b15",
   "metadata": {},
   "source": [
    "#### 矩阵减法"
   ]
  },
  {
   "cell_type": "markdown",
   "id": "9b227cdd-aa47-4ea2-aa76-90ebceb8243b",
   "metadata": {},
   "source": [
    "矩阵减法是线性代数中的另一种基本运算，与矩阵加法类似，只有当两个矩阵具有相同的维度时，它们才能进行减法运算。\n",
    "\n",
    "##### 定义\n",
    "如果有两个相同大小的矩阵 $ A $ 和 $ B $，它们都是 $ m \\times n $ 的矩阵，那么矩阵 $ A $ 和 $ B $ 的差，记作 $ C = A - B $，也是一个 $ m \\times n $ 的矩阵，其中每个元素 $ c_{ij} $ 由下式给出：\n",
    "$ c_{ij} = a_{ij} - b_{ij} $\n",
    "这里，$ a_{ij} $ 是矩阵 $ A $ 中第 $ i $ 行第 $ j $ 列的元素，$ b_{ij} $ 是矩阵 $ B $ 中第 $ i $ 行第 $ j $ 列的元素，而 $ c_{ij} $ 是结果矩阵 $ C $ 中对应的元素。\n",
    "\n",
    "##### 数学表示\n",
    "假设矩阵 $ A $ 和 $ B $ 是：\n",
    "$$\n",
    "A = \\begin{bmatrix}\n",
    "a_{11} & a_{12} & \\cdots & a_{1n} \\\\\n",
    "a_{21} & a_{22} & \\cdots & a_{2n} \\\\\n",
    "\\vdots & \\vdots & \\ddots & \\vdots \\\\\n",
    "a_{m1} & a_{m2} & \\cdots & a_{mn}\n",
    "\\end{bmatrix}\n",
    "$$\n",
    "\n",
    "$$\n",
    "B = \\begin{bmatrix}\n",
    "b_{11} & b_{12} & \\cdots & b_{1n} \\\\\n",
    "b_{21} & b_{22} & \\cdots & b_{2n} \\\\\n",
    "\\vdots & \\vdots & \\ddots & \\vdots \\\\\n",
    "b_{m1} & b_{m2} & \\cdots & b_{mn}\n",
    "\\end{bmatrix} \n",
    "$$\n",
    "那么它们的差 $ C = A - B $ 是：\n",
    "$$ \n",
    "C = \\begin{bmatrix}\n",
    "a_{11} - b_{11} & a_{12} - b_{12} & \\cdots & a_{1n} - b_{1n} \\\\\n",
    "a_{21} - b_{21} & a_{22} - b_{22} & \\cdots & a_{2n} - b_{2n} \\\\\n",
    "\\vdots & \\vdots & \\ddots & \\vdots \\\\\n",
    "a_{m1} - b_{m1} & a_{m2} - b_{m2} & \\cdots & a_{mn} - b_{mn}\n",
    "\\end{bmatrix} \n",
    "$$\n",
    "\n",
    "##### 性质\n",
    "1. **非交换律**：$ A - B \\neq B - A $。\n",
    "2. **结合律**：减法不满足结合律，因为 $ (A - B) - C $ 和 $ A - (B - C) $ 通常不相等。\n",
    "3. **减法单位元**：存在一个零矩阵 $ \\mathbf{0} $，使得对于任何矩阵 $ A $，有 $ A - \\mathbf{0} = A $。\n",
    "4. **减法逆元**：对于每一个矩阵 $ A $，存在一个矩阵 $ -A $，使得 $ A - (-A) = A + A = 2A $。"
   ]
  },
  {
   "cell_type": "markdown",
   "id": "9abc1fd4-3cbb-4540-ab7e-24b94d810902",
   "metadata": {},
   "source": [
    "#### 矩阵乘法"
   ]
  },
  {
   "cell_type": "markdown",
   "id": "5f0d51d3-168b-4b6d-8f89-bdf9112dc655",
   "metadata": {},
   "source": [
    "两个相容的矩阵A和B，即A的列数与B的行数相等才能相乘。\n",
    "\n",
    "$$\n",
    "A_{m \\times n}B_{n \\times p} = C_{m \\times p}\n",
    "$$\n",
    "$$\n",
    "c_{ij}=\\sum_{k=1}^na_{ik}b_{kj}\n",
    "$$\n",
    "\n",
    "##### 定义\n",
    "如果有两个矩阵 $ A $ 和 $ B $，其中 $ A $ 是一个 $ m \\times n $ 矩阵，$ B $ 是一个 $ n \\times p $ 矩阵，那么它们的乘积 $ C = AB $ 是一个 $ m \\times p $ 矩阵。结果矩阵 $ C $ 中的每个元素 $ c_{ij} $ 是通过取 $ A $ 的第 $ i $ 行和 $ B $ 的第 $ j $ 列的点积得到的。\n",
    "\n",
    "##### 数学表示\n",
    "假设矩阵 $ A $ 是：\n",
    "$$\n",
    "A = \\begin{bmatrix}\n",
    "a_{11} & a_{12} & \\cdots & a_{1n} \\\\\n",
    "a_{21} & a_{22} & \\cdots & a_{2n} \\\\\n",
    "\\vdots & \\vdots & \\ddots & \\vdots \\\\\n",
    "a_{m1} & a_{m2} & \\cdots & a_{mn}\n",
    "\\end{bmatrix} \n",
    "$$\n",
    "\n",
    "矩阵 $ B $ 是：\n",
    "$$\n",
    "B = \\begin{bmatrix}\n",
    "b_{11} & b_{12} & \\cdots & b_{1p} \\\\\n",
    "b_{21} & b_{22} & \\cdots & b_{2p} \\\\\n",
    "\\vdots & \\vdots & \\ddots & \\vdots \\\\\n",
    "b_{n1} & b_{n2} & \\cdots & b_{np}\n",
    "\\end{bmatrix} \n",
    "$$\n",
    "那么它们的乘积 $ C = AB $ 是：\n",
    "\n",
    "$$\n",
    "C = \\begin{bmatrix}\n",
    "c_{11} & c_{12} & \\cdots & c_{1p} \\\\\n",
    "c_{21} & c_{22} & \\cdots & c_{2p} \\\\\n",
    "\\vdots & \\vdots & \\ddots & \\vdots \\\\\n",
    "c_{m1} & c_{m2} & \\cdots & c_{mp}\n",
    "\\end{bmatrix} \n",
    "$$\n",
    "\n",
    "其中每个元素 $ c_{ij} $ 计算为：\n",
    "$ c_{ij} = a_{i1}b_{1j} + a_{i2}b_{2j} + \\cdots + a_{in}b_{nj} = \\sum_{k=1}^{n} a_{ik}b_{kj} $\n",
    "\n",
    "##### 性质\n",
    "1. **结合律**：$ (AB)C = A(BC) $。\n",
    "2. **分配律**：$ A(B + C) = AB + AC $ 和 $ (A + B)C = AC + BC $。\n",
    "3. **非交换律**：一般情况下，$ AB \\neq BA $。\n",
    "\n",
    "**示例**\n",
    "\n",
    "对于矩阵$A =\\begin{bmatrix}\n",
    "a_{11} & a_{12} & a_{13} \\\\\n",
    "a_{21} & a_{22} & a_{23} \\\\\n",
    "\\end{bmatrix}， B =\\begin{bmatrix}\n",
    "b_{11} & b_{12} \\\\\n",
    "b_{21} & b_{22} \\\\\n",
    "b_{31} & b_{32} \\\\\n",
    "\\end{bmatrix}，求C=A \\times B$\n",
    "\n",
    "解：\n",
    "\n",
    "$\n",
    "C=A \\times B=\\begin{bmatrix}\n",
    "a_{11} \\times b_{11} + a_{12} \\times b_{21}  + a_{13} \\times b_{31} & a_{11} \\times b_{12} + a_{12} \\times b_{22}  + a_{13} \\times b_{32}\\\\\n",
    "a_{21} \\times b_{11} + a_{22} \\times b_{21}  + a_{23} \\times b_{31} & a_{21} \\times b_{12} + a_{22} \\times b_{22}  + a_{23} \\times b_{32} \\\\\n",
    "\\end{bmatrix}\n",
    "$\n"
   ]
  },
  {
   "cell_type": "markdown",
   "id": "62ea3dff-fa08-4018-8ef8-3b810a9a6fea",
   "metadata": {},
   "source": [
    "### 矩阵的基本性质"
   ]
  },
  {
   "cell_type": "markdown",
   "id": "6558647a-8570-476d-b8d0-394411199f83",
   "metadata": {},
   "source": [
    "#### 矩阵的逆\n",
    "\n",
    "矩阵的逆是线性代数中的一个概念，它指的是一个方阵（即行数和列数相等的矩阵），当与另一个矩阵相乘时，能够得到单位矩阵。如果存在这样一个矩阵，那么这个矩阵被称为原矩阵的逆矩阵。\n",
    "\n",
    "##### 定义\n",
    "对于一个 $ n \\times n $ 的方阵 $ A $，如果存在一个 $ n \\times n $ 的矩阵 $ B $，使得：\n",
    "$ AB = BA = I_n $\n",
    "其中 $ I_n $ 是 $ n \\times n $ 的单位矩阵，那么 $ B $ 被称为 $ A $ 的逆矩阵，记作 $ A^{-1} $。\n",
    "\n",
    "##### 性质\n",
    "1. **唯一性**：如果一个矩阵的逆存在，那么它是唯一的。\n",
    "2. **非所有矩阵都有逆**：只有方阵可能有逆，而且不是所有方阵都有逆。一个方阵有逆的充分必要条件是其行列式非零（即 $ \\det(A) \\neq 0 $）。\n",
    "3. **乘积的逆**：如果 $ A $ 和 $ B $ 都是可逆矩阵，那么它们的乘积 $ AB $ 也是可逆的，并且 $ (AB)^{-1} = B^{-1}A^{-1} $。\n",
    "4. **转置的逆**：如果 $ A $ 是可逆的，那么它的转置 $ A^T $ 也是可逆的，并且 $ (A^T)^{-1} = (A^{-1})^T $。\n",
    "\n",
    "##### 求逆矩阵的方法\n",
    "1. **高斯-若尔当消元法**：通过将矩阵 $ A $ 与单位矩阵 $ I_n $ 增广，然后执行行变换，将 $ A $ 转换为单位矩阵，同时将 $ I_n $ 转换为 $ A^{-1} $。\n",
    "2. **伴随矩阵法**：对于较小的矩阵，可以通过计算 $ A $ 的行列式和伴随矩阵，然后使用公式 $ A^{-1} = \\frac{1}{\\det(A)} \\text{adj}(A) $ 来求逆。"
   ]
  },
  {
   "cell_type": "markdown",
   "id": "f9858ea7-7f27-48a4-90e3-0950ae439642",
   "metadata": {},
   "source": [
    "#### 计算$2 \\times 2$矩阵的逆"
   ]
  },
  {
   "cell_type": "markdown",
   "id": "ea8c8d21-dc80-4749-9f7e-e709869adeb0",
   "metadata": {},
   "source": [
    "要计算一个 $2 \\times 2$ 矩阵的逆，可以使用以下公式。假设矩阵 $ A $ 是：\n",
    "$$ A = \\begin{bmatrix}\n",
    "a & b \\\\\n",
    "c & d\n",
    "\\end{bmatrix} $$\n",
    "\n",
    "矩阵 $ A $ 的逆，记作 $ A^{-1} $，由下式给出：\n",
    "$$ A^{-1} = \\frac{1}{ad - bc} \\begin{bmatrix}\n",
    "d & -b \\\\\n",
    "-c & a\n",
    "\\end{bmatrix} $$\n",
    "其中 $ ad - bc $ 是矩阵 $ A $ 的行列式。行列式必须非零，矩阵才有逆。\n",
    "\n",
    "**步骤:**\n",
    "\n",
    "1. **计算行列式**：\n",
    "   $ \\det(A) = ad - bc $\n",
    "   如果行列式为零，则矩阵没有逆。\n",
    "\n",
    "2. **形成伴随矩阵**：\n",
    "   对于 $2 \\times 2$ 矩阵，伴随矩阵是：\n",
    "   $ \\text{adj}(A) = \\begin{bmatrix}\n",
    "   d & -b \\\\\n",
    "   -c & a\n",
    "   \\end{bmatrix} $\n",
    "\n",
    "3. **计算逆矩阵**：\n",
    "   $ A^{-1} = \\frac{1}{\\det(A)} \\text{adj}(A) = \\frac{1}{ad - bc} \\begin{bmatrix}\n",
    "   d & -b \\\\\n",
    "   -c & a\n",
    "   \\end{bmatrix} $\n",
    "\n",
    "**示例:**\n",
    "考虑矩阵：\n",
    "\n",
    "$$ A = \\begin{bmatrix}\n",
    "1 & 2 \\\\\n",
    "3 & 4\n",
    "\\end{bmatrix} $$\n",
    "\n",
    "1. **计算行列式**：\n",
    "   $ \\det(A) = (1)(4) - (2)(3) = 4 - 6 = -2 $\n",
    "\n",
    "2. **形成伴随矩阵**：\n",
    "   $ \\text{adj}(A) = \\begin{bmatrix}\n",
    "   4 & -2 \\\\\n",
    "   -3 & 1\n",
    "   \\end{bmatrix} $\n",
    "\n",
    "3. **计算逆矩阵**：\n",
    "   $ A^{-1} = \\frac{1}{-2} \\begin{bmatrix}\n",
    "   4 & -2 \\\\\n",
    "   -3 & 1\n",
    "   \\end{bmatrix} = \\begin{bmatrix}\n",
    "   -2 & 1 \\\\\n",
    "   1.5 & -0.5\n",
    "   \\end{bmatrix} $\n",
    "\n",
    "因此，矩阵 $ A $ 的逆是：\n",
    "$$ A^{-1} = \\begin{bmatrix}\n",
    "-2 & 1 \\\\\n",
    "1.5 & -0.5\n",
    "\\end{bmatrix} $$\n",
    "\n",
    "这个过程展示了如何计算一个 $2 \\times 2$ 矩阵的逆。对于更大的矩阵，可以使用更高级的方法，如高斯-若尔当消元法或伴随矩阵法。\n"
   ]
  },
  {
   "cell_type": "markdown",
   "id": "5d77a0fc-5558-4eb6-8e6a-79209b7ca341",
   "metadata": {},
   "source": [
    "#### 矩阵的线性相关和无关\n",
    "\n",
    "在线性代数中，向量（或矩阵的列）的线性相关性和线性无关性是描述向量集合之间关系的重要概念。\n",
    "\n",
    "##### 线性无关（Linear Independence）\n",
    "如果一组向量集合中的任何一个向量不能被其他向量的线性组合所表示，那么这组向量就是线性无关的。换句话说，如果只有当所有系数都为零时，这些向量的线性组合才能等于零向量，那么这些向量就是线性无关的。\n",
    "\n",
    "数学上，对于向量集合 $\\{v_1, v_2, ..., v_n\\}$，如果方程\n",
    "$ c_1v_1 + c_2v_2 + ... + c_nv_n = 0 $\n",
    "的解只有 $ c_1 = c_2 = ... = c_n = 0 $，那么这些向量就是线性无关的。\n",
    "\n",
    "##### 线性相关（Linear Dependence）\n",
    "如果至少有一个向量可以被其他向量的线性组合所表示，那么这组向量就是线性相关的。这意味着存在非零系数，使得这些向量的线性组合等于零向量。\n",
    "\n",
    "数学上，对于向量集合 $\\{v_1, v_2, ..., v_n\\}$，如果存在非零系数 $ c_1, c_2, ..., c_n $ 使得\n",
    "$ c_1v_1 + c_2v_2 + ... + c_nv_n = 0 $ 那么这些向量就是线性相关的。\n",
    "\n",
    "比如行向量$x_1=(1,2,3),x_2=(2,6,4),x3=(4, 11,9)$是线性相关的，因为存在非全零$c_1,c_2,c_3$使得 $c_1x_1+c_2x_2+c_3x_3=0$，例如$2x_1+3x_2−2x_3=0$，即$(2,4,6)+(6,18,12)−(8,22,18)=0$"
   ]
  },
  {
   "cell_type": "markdown",
   "id": "31b63714-6ecb-45ba-a500-0ecbff8961ae",
   "metadata": {},
   "source": [
    "#### 矩阵的秩\n",
    "\n",
    "矩阵的秩（Rank of a Matrix）是线性代数中的一个核心概念，它描述了矩阵中行向量或列向量所张成的向量空间的维度。矩阵的秩提供了关于矩阵线性独立行或列的信息，是衡量矩阵“大小”或“复杂度”的一个重要指标。\n",
    "\n",
    "##### 定义\n",
    "矩阵 $ A $ 的秩，记作 $ \\text{rank}(A) $，是 $ A $ 中线性无关的行向量或列向量的最大数量。这意味着它是矩阵中行或列的最大线性无关组的大小。\n",
    "\n",
    "##### 计算方法\n",
    "1. **行阶梯形**：\n",
    "   将矩阵转换为行阶梯形（或简化行阶梯形），然后计算非零行的数量。这个数量就是矩阵的秩。\n",
    "\n",
    "2. **列空间**：\n",
    "   考虑矩阵的所有列，找出其中线性无关的列的最大数量。这个数量也是矩阵的秩。\n",
    "\n",
    "3. **行列式**：\n",
    "   对于方阵，可以通过计算其子矩阵的行列式来确定秩。如果最大的非零子行列式的阶数是 $ r $，那么矩阵的秩是 $ r $。\n",
    "\n",
    "##### 性质\n",
    "1. **秩与零度**：\n",
    "   对于 $ m \\times n $ 矩阵 $ A $，秩-零度定理表明 $ A $ 的秩加上 $ A $ 的零度（$ A $ 的零空间的维度）等于 $ n $。\n",
    "\n",
    "2. **秩与线性变换**：\n",
    "   矩阵的秩可以被解释为由矩阵表示的线性变换的像的维度。\n",
    "\n",
    "3. **秩与可逆性**：\n",
    "   方阵 $ A $ 可逆当且仅当它的秩等于它的行数（或列数），即 $ \\text{rank}(A) = n $。"
   ]
  },
  {
   "cell_type": "markdown",
   "id": "16fad7fc-d620-412b-9c79-bdfddae12014",
   "metadata": {},
   "source": [
    "#### 矩阵的行列式"
   ]
  },
  {
   "cell_type": "markdown",
   "id": "7eb3e1da-8cd1-4a9b-9e07-ede578d3c3d9",
   "metadata": {},
   "source": [
    "矩阵的行列式是一个标量值，可以从方阵的元素计算出来，反映矩阵的某些重要性质和特征。行列式在数学、物理和工程中有广泛的应用，特别是在解线性方程组、研究线性变换和特征值问题中。\n",
    "\n",
    "### 定义\n",
    "对于一个 $ n \\times n $ 的方阵 $ A $，行列式是一个标量值，记作 $ \\det(A) $ 或 $ |A| $。\n",
    "\n",
    "### 计算方法\n",
    "行列式的计算方法取决于矩阵的大小：\n",
    "\n",
    "1. **对于 $ 2 \\times 2 $ 矩阵**：\n",
    "   $$ A = \\begin{bmatrix}\n",
    "   a & b \\\\\n",
    "   c & d\n",
    "   \\end{bmatrix} $$\n",
    "   行列式计算为：\n",
    "   $$ \\det(A) = ad - bc $$\n",
    "\n",
    "2. **对于 $ 3 \\times 3 $ 矩阵**：\n",
    "   $$ A = \\begin{bmatrix}\n",
    "   a & b & c \\\\\n",
    "   d & e & f \\\\\n",
    "   g & h & i\n",
    "   \\end{bmatrix} $$\n",
    "   行列式计算为：\n",
    "   $$ \\det(A) = a(ei - fh) - b(di - fg) + c(dh - eg) $$\n",
    "\n",
    "3. **对于更大的矩阵**：\n",
    "   可以使用余子式展开（拉普拉斯展开）来计算行列式。对于 $ n \\times n $ 矩阵，选择任意一行或一列，行列式可以表示为该行（列）中每个元素与其对应的余子式的乘积之和。\n",
    "\n",
    "### 性质\n",
    "行列式具有以下一些重要性质：\n",
    "1. **多线性和交替**：行列式是多线性的，意味着在每一行（列）中，它线性地依赖于其他行（列）的元素，并且是交替的，意味着交换任意两行（列）会改变行列式的符号。\n",
    "2. **单位矩阵的行列式**：单位矩阵的行列式为1。\n",
    "3. **逆矩阵的行列式**：如果矩阵 $ A $ 可逆，那么 $ A^{-1} $ 的行列式是 $ A $ 行列式的倒数。\n",
    "4. **矩阵乘积的行列式**：两个矩阵乘积的行列式等于它们行列式的乘积，即 $ \\det(AB) = \\det(A) \\det(B) $。\n",
    "5. **行列式与体积**：对于 $ 3 \\times 3 $ 矩阵，行列式的绝对值表示由矩阵表示的线性变换改变的体积的缩放因子。\n"
   ]
  },
  {
   "cell_type": "code",
   "execution_count": null,
   "id": "5981f7f3-5cb4-43da-95b3-c6b9499f0ff1",
   "metadata": {},
   "outputs": [],
   "source": []
  }
 ],
 "metadata": {
  "kernelspec": {
   "display_name": "Python 3 (ipykernel)",
   "language": "python",
   "name": "python3"
  },
  "language_info": {
   "codemirror_mode": {
    "name": "ipython",
    "version": 3
   },
   "file_extension": ".py",
   "mimetype": "text/x-python",
   "name": "python",
   "nbconvert_exporter": "python",
   "pygments_lexer": "ipython3",
   "version": "3.10.12"
  }
 },
 "nbformat": 4,
 "nbformat_minor": 5
}
