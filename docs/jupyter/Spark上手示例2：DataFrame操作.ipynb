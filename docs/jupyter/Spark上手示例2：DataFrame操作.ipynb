{
 "cells": [
  {
   "cell_type": "code",
   "execution_count": 1,
   "metadata": {},
   "outputs": [
    {
     "data": {
      "text/html": [
       "<script>requirejs.config({paths: { 'plotly': ['https://cdn.plot.ly/plotly-latest.min']},});if(!window.Plotly) {{require(['plotly'],function(plotly) {window.Plotly=plotly;});}}</script>"
      ],
      "text/vnd.plotly.v1+html": [
       "<script>requirejs.config({paths: { 'plotly': ['https://cdn.plot.ly/plotly-latest.min']},});if(!window.Plotly) {{require(['plotly'],function(plotly) {window.Plotly=plotly;});}}</script>"
      ]
     },
     "metadata": {},
     "output_type": "display_data"
    }
   ],
   "source": [
    "# 导入相关库\n",
    "from pyspark.sql import Row, SparkSession,SQLContext\n",
    "from pyspark.sql.types import IntegerType,DateType, TimestampType\n",
    "from pyspark.sql.functions import col, udf,to_date,from_unixtime,countDistinct\n",
    "\n",
    "# 计算处理\n",
    "import pandas as pd\n",
    "import numpy as np\n",
    "\n",
    "import time\n",
    "\n",
    "# 图表相关\n",
    "import plotly.plotly as py\n",
    "import plotly\n",
    "plotly.offline.init_notebook_mode(connected=True)\n",
    "import plotly.graph_objs as go\n",
    "\n",
    "# jupyter使用matplot的配置\n",
    "%matplotlib inline"
   ]
  },
  {
   "cell_type": "code",
   "execution_count": 2,
   "metadata": {},
   "outputs": [],
   "source": [
    "# 创建spark上下文，并设置10个分区\n",
    "spark = SparkSession.builder.appName(\"vas项目\").config(\"spark.default.parallelism\", 10).getOrCreate()\n",
    "sc = spark.sparkContext"
   ]
  },
  {
   "cell_type": "code",
   "execution_count": 3,
   "metadata": {},
   "outputs": [
    {
     "name": "stdout",
     "output_type": "stream",
     "text": [
      "CPU times: user 8 ms, sys: 0 ns, total: 8 ms\n",
      "Wall time: 41.3 s\n"
     ]
    }
   ],
   "source": [
    "%%time\n",
    "\n",
    "logPaths = ['/var/log/vas-project/vas_data/201807',\n",
    "            '/var/log/vas-project/vas_data/201808', \n",
    "            '/var/log/vas-project/vas_data/201809',\n",
    "            '/var/log/vas-project/vas_data/201810'\n",
    "           ];\n",
    "df = spark.read.format('json').load(logPaths)"
   ]
  },
  {
   "cell_type": "code",
   "execution_count": 4,
   "metadata": {},
   "outputs": [
    {
     "name": "stdout",
     "output_type": "stream",
     "text": [
      "+-----+------------+------+--------------------+---------------+-----+-----------+---+\n",
      "|brand|country_code|device|              events|     ip_address|model|    partner|ref|\n",
      "+-----+------------+------+--------------------+---------------+-----+-----------+---+\n",
      "| Itel|          ML|    sp|[[click, 15358391...|  217.64.103.74|  P13|searchturbo|  m|\n",
      "| Itel|          EG|    sp|[[click, 15358391...|196.141.135.133| A32F|searchturbo|  m|\n",
      "| Itel|          NG|    sp|[[click, 15358391...| 197.210.226.58|  P32|searchturbo|  m|\n",
      "| Itel|          IN|    sp|[[click, 15358391...| 157.48.123.237|  A22|searchturbo|  m|\n",
      "| Itel|          EG|    sp|[[click, 15358391...|  105.199.93.33| A32F|searchturbo|  m|\n",
      "| Itel|          EG|    sp|[[click, 15358391...|196.141.135.133| A32F|searchturbo|  m|\n",
      "| Itel|          MA|    sp|[[click, 15358391...| 41.249.147.213| A32F|searchturbo|  m|\n",
      "| Itel|          CI|    sp|[[click, 15358391...|   154.0.26.115|  P32|    Unknown|  m|\n",
      "| Itel|          BJ|    sp|[[click, 15358391...|197.234.221.243| A32F|searchturbo|  m|\n",
      "| Itel|          EG|    sp|[[click, 15358391...|196.141.135.133| A32F|searchturbo|  m|\n",
      "+-----+------------+------+--------------------+---------------+-----+-----------+---+\n",
      "\n",
      "CPU times: user 0 ns, sys: 0 ns, total: 0 ns\n",
      "Wall time: 11.6 s\n"
     ]
    }
   ],
   "source": [
    "%%time\n",
    "\n",
    "# 查看前10条数据\n",
    "\n",
    "df.limit(10).show()"
   ]
  },
  {
   "cell_type": "code",
   "execution_count": 5,
   "metadata": {},
   "outputs": [
    {
     "name": "stdout",
     "output_type": "stream",
     "text": [
      "CPU times: user 0 ns, sys: 0 ns, total: 0 ns\n",
      "Wall time: 6.31 s\n"
     ]
    },
    {
     "data": {
      "text/plain": [
       "2075513"
      ]
     },
     "execution_count": 5,
     "metadata": {},
     "output_type": "execute_result"
    }
   ],
   "source": [
    "%%time\n",
    "\n",
    "# 查看总共记录数\n",
    "\n",
    "df.count()"
   ]
  },
  {
   "cell_type": "markdown",
   "metadata": {},
   "source": [
    "## 例1. 按品牌机型统计"
   ]
  },
  {
   "cell_type": "code",
   "execution_count": 6,
   "metadata": {},
   "outputs": [
    {
     "name": "stdout",
     "output_type": "stream",
     "text": [
      "+-----+---------+------+\n",
      "|brand|    model| count|\n",
      "+-----+---------+------+\n",
      "| Itel|     A52B|    19|\n",
      "| Itel|      A14| 10136|\n",
      "| Itel|  S13 Pro|   151|\n",
      "| Itel| A16 Plus|   229|\n",
      "| Itel|      A52| 12812|\n",
      "| Itel|      A45| 68690|\n",
      "| Itel|      A22| 69811|\n",
      "| Itel|      A16|  4210|\n",
      "| Itel|     S11X| 27366|\n",
      "| Itel|      A62| 11161|\n",
      "|Spice|     Z213| 77393|\n",
      "| Itel|    S11XB|   137|\n",
      "| Itel|      A15| 11744|\n",
      "| Itel|      P32|550753|\n",
      "| Itel| P13 Plus|   176|\n",
      "| Itel|A44 Power|    32|\n",
      "| Itel|     A32F|537792|\n",
      "| Itel|itel A32F| 67001|\n",
      "| Itel|      A23|  1493|\n",
      "| Itel|      S13| 19634|\n",
      "+-----+---------+------+\n",
      "only showing top 20 rows\n",
      "\n",
      "CPU times: user 8 ms, sys: 0 ns, total: 8 ms\n",
      "Wall time: 10.8 s\n"
     ]
    }
   ],
   "source": [
    "%%time\n",
    "\n",
    "# 按照品牌(brand)和机型(model)进行聚合\n",
    "\n",
    "brand_model_count = df.select('brand', 'partner', 'model').groupBy('brand','model').count()\n",
    "\n",
    "# 打印一下\n",
    "brand_model_count.show()"
   ]
  },
  {
   "cell_type": "code",
   "execution_count": 7,
   "metadata": {},
   "outputs": [
    {
     "name": "stdout",
     "output_type": "stream",
     "text": [
      "CPU times: user 4 ms, sys: 8 ms, total: 12 ms\n",
      "Wall time: 10.1 s\n"
     ]
    }
   ],
   "source": [
    "%%time\n",
    "\n",
    "# 换行成pandas\n",
    "\n",
    "pd_df = brand_model_count.toPandas()\n",
    "\n",
    "# 查看前5条\n",
    "pd_df.head(5)"
   ]
  },
  {
   "cell_type": "code",
   "execution_count": 8,
   "metadata": {},
   "outputs": [
    {
     "data": {
      "text/html": [
       "<div>\n",
       "<style scoped>\n",
       "    .dataframe tbody tr th:only-of-type {\n",
       "        vertical-align: middle;\n",
       "    }\n",
       "\n",
       "    .dataframe tbody tr th {\n",
       "        vertical-align: top;\n",
       "    }\n",
       "\n",
       "    .dataframe thead th {\n",
       "        text-align: right;\n",
       "    }\n",
       "</style>\n",
       "<table border=\"1\" class=\"dataframe\">\n",
       "  <thead>\n",
       "    <tr style=\"text-align: right;\">\n",
       "      <th></th>\n",
       "      <th>brand</th>\n",
       "      <th>model</th>\n",
       "      <th>count</th>\n",
       "    </tr>\n",
       "  </thead>\n",
       "  <tbody>\n",
       "    <tr>\n",
       "      <th>Itel_S13Pro</th>\n",
       "      <td>Itel</td>\n",
       "      <td>S13Pro</td>\n",
       "      <td>3</td>\n",
       "    </tr>\n",
       "    <tr>\n",
       "      <th>Itel_A52B</th>\n",
       "      <td>Itel</td>\n",
       "      <td>A52B</td>\n",
       "      <td>19</td>\n",
       "    </tr>\n",
       "    <tr>\n",
       "      <th>Itel_A44 Power</th>\n",
       "      <td>Itel</td>\n",
       "      <td>A44 Power</td>\n",
       "      <td>32</td>\n",
       "    </tr>\n",
       "    <tr>\n",
       "      <th>Itel_S11XB</th>\n",
       "      <td>Itel</td>\n",
       "      <td>S11XB</td>\n",
       "      <td>137</td>\n",
       "    </tr>\n",
       "    <tr>\n",
       "      <th>Itel_S13 Pro</th>\n",
       "      <td>Itel</td>\n",
       "      <td>S13 Pro</td>\n",
       "      <td>151</td>\n",
       "    </tr>\n",
       "  </tbody>\n",
       "</table>\n",
       "</div>"
      ],
      "text/plain": [
       "               brand      model  count\n",
       "Itel_S13Pro     Itel     S13Pro      3\n",
       "Itel_A52B       Itel       A52B     19\n",
       "Itel_A44 Power  Itel  A44 Power     32\n",
       "Itel_S11XB      Itel      S11XB    137\n",
       "Itel_S13 Pro    Itel    S13 Pro    151"
      ]
     },
     "execution_count": 8,
     "metadata": {},
     "output_type": "execute_result"
    }
   ],
   "source": [
    "# 数据转换，排序处理下\n",
    "\n",
    "pd_df.index = pd_df['brand'] + '_' + pd_df['model']\n",
    "pd_df = pd_df.sort_values(by = ['brand', 'count'])\n",
    "\n",
    "pd_df.head()"
   ]
  },
  {
   "cell_type": "code",
   "execution_count": 9,
   "metadata": {},
   "outputs": [
    {
     "data": {
      "text/html": [
       "<div>\n",
       "<style scoped>\n",
       "    .dataframe tbody tr th:only-of-type {\n",
       "        vertical-align: middle;\n",
       "    }\n",
       "\n",
       "    .dataframe tbody tr th {\n",
       "        vertical-align: top;\n",
       "    }\n",
       "\n",
       "    .dataframe thead th {\n",
       "        text-align: right;\n",
       "    }\n",
       "</style>\n",
       "<table border=\"1\" class=\"dataframe\">\n",
       "  <thead>\n",
       "    <tr style=\"text-align: right;\">\n",
       "      <th></th>\n",
       "      <th>count</th>\n",
       "    </tr>\n",
       "  </thead>\n",
       "  <tbody>\n",
       "    <tr>\n",
       "      <th>Itel_S13Pro</th>\n",
       "      <td>3</td>\n",
       "    </tr>\n",
       "    <tr>\n",
       "      <th>Itel_A52B</th>\n",
       "      <td>19</td>\n",
       "    </tr>\n",
       "    <tr>\n",
       "      <th>Itel_A44 Power</th>\n",
       "      <td>32</td>\n",
       "    </tr>\n",
       "    <tr>\n",
       "      <th>Itel_S11XB</th>\n",
       "      <td>137</td>\n",
       "    </tr>\n",
       "    <tr>\n",
       "      <th>Itel_S13 Pro</th>\n",
       "      <td>151</td>\n",
       "    </tr>\n",
       "  </tbody>\n",
       "</table>\n",
       "</div>"
      ],
      "text/plain": [
       "                count\n",
       "Itel_S13Pro         3\n",
       "Itel_A52B          19\n",
       "Itel_A44 Power     32\n",
       "Itel_S11XB        137\n",
       "Itel_S13 Pro      151"
      ]
     },
     "execution_count": 9,
     "metadata": {},
     "output_type": "execute_result"
    }
   ],
   "source": [
    "# 只取count列\n",
    "pd_df = pd_df[['count']]\n",
    "\n",
    "# 查看一下\n",
    "pd_df.head()"
   ]
  },
  {
   "cell_type": "code",
   "execution_count": 10,
   "metadata": {},
   "outputs": [
    {
     "data": {
      "text/plain": [
       "<matplotlib.axes._subplots.AxesSubplot at 0x7fa5fcf692b0>"
      ]
     },
     "execution_count": 10,
     "metadata": {},
     "output_type": "execute_result"
    },
    {
     "data": {
      "image/png": "[encoded data removed]",
      "text/plain": [
       "<Figure size 1080x360 with 1 Axes>"
      ]
     },
     "metadata": {
      "needs_background": "light"
     },
     "output_type": "display_data"
    }
   ],
   "source": [
    "# 图表显示下\n",
    "\n",
    "pd_df.plot(kind='bar', figsize=(15, 5))"
   ]
  },
  {
   "cell_type": "markdown",
   "metadata": {},
   "source": [
    "## 例2. 按国家查看访问量"
   ]
  },
  {
   "cell_type": "code",
   "execution_count": 11,
   "metadata": {},
   "outputs": [
    {
     "name": "stdout",
     "output_type": "stream",
     "text": [
      "CPU times: user 8 ms, sys: 0 ns, total: 8 ms\n",
      "Wall time: 62.6 ms\n"
     ]
    }
   ],
   "source": [
    "%%time\n",
    "# 按照country_code 进行聚合\n",
    "\n",
    "country_code_count = df.select('country_code').groupBy('country_code').count()"
   ]
  },
  {
   "cell_type": "code",
   "execution_count": 12,
   "metadata": {},
   "outputs": [
    {
     "name": "stdout",
     "output_type": "stream",
     "text": [
      "CPU times: user 4 ms, sys: 0 ns, total: 4 ms\n",
      "Wall time: 7.5 s\n"
     ]
    },
    {
     "data": {
      "text/plain": [
       "[Row(country_code='DZ', count=1027),\n",
       " Row(country_code='LT', count=12),\n",
       " Row(country_code='MM', count=18),\n",
       " Row(country_code='CI', count=95814),\n",
       " Row(country_code='SC', count=8)]"
      ]
     },
     "execution_count": 12,
     "metadata": {},
     "output_type": "execute_result"
    }
   ],
   "source": [
    "%%time\n",
    "# 显示前5条数据\n",
    "\n",
    "country_code_count.limit(5).collect()"
   ]
  },
  {
   "cell_type": "code",
   "execution_count": 13,
   "metadata": {},
   "outputs": [
    {
     "data": {
      "text/html": [
       "<div>\n",
       "<style scoped>\n",
       "    .dataframe tbody tr th:only-of-type {\n",
       "        vertical-align: middle;\n",
       "    }\n",
       "\n",
       "    .dataframe tbody tr th {\n",
       "        vertical-align: top;\n",
       "    }\n",
       "\n",
       "    .dataframe thead th {\n",
       "        text-align: right;\n",
       "    }\n",
       "</style>\n",
       "<table border=\"1\" class=\"dataframe\">\n",
       "  <thead>\n",
       "    <tr style=\"text-align: right;\">\n",
       "      <th></th>\n",
       "      <th>country_code</th>\n",
       "      <th>count</th>\n",
       "    </tr>\n",
       "  </thead>\n",
       "  <tbody>\n",
       "    <tr>\n",
       "      <th>0</th>\n",
       "      <td>DZ</td>\n",
       "      <td>1027</td>\n",
       "    </tr>\n",
       "    <tr>\n",
       "      <th>1</th>\n",
       "      <td>LT</td>\n",
       "      <td>12</td>\n",
       "    </tr>\n",
       "    <tr>\n",
       "      <th>2</th>\n",
       "      <td>MM</td>\n",
       "      <td>18</td>\n",
       "    </tr>\n",
       "    <tr>\n",
       "      <th>3</th>\n",
       "      <td>CI</td>\n",
       "      <td>95814</td>\n",
       "    </tr>\n",
       "    <tr>\n",
       "      <th>4</th>\n",
       "      <td>SC</td>\n",
       "      <td>8</td>\n",
       "    </tr>\n",
       "  </tbody>\n",
       "</table>\n",
       "</div>"
      ],
      "text/plain": [
       "  country_code  count\n",
       "0           DZ   1027\n",
       "1           LT     12\n",
       "2           MM     18\n",
       "3           CI  95814\n",
       "4           SC      8"
      ]
     },
     "execution_count": 13,
     "metadata": {},
     "output_type": "execute_result"
    }
   ],
   "source": [
    "# 转换成pandas\n",
    "\n",
    "codePandas = country_code_count.toPandas()\n",
    "\n",
    "codePandas.head()"
   ]
  },
  {
   "cell_type": "code",
   "execution_count": 14,
   "metadata": {},
   "outputs": [
    {
     "data": {
      "text/html": [
       "<div>\n",
       "<style scoped>\n",
       "    .dataframe tbody tr th:only-of-type {\n",
       "        vertical-align: middle;\n",
       "    }\n",
       "\n",
       "    .dataframe tbody tr th {\n",
       "        vertical-align: top;\n",
       "    }\n",
       "\n",
       "    .dataframe thead th {\n",
       "        text-align: right;\n",
       "    }\n",
       "</style>\n",
       "<table border=\"1\" class=\"dataframe\">\n",
       "  <thead>\n",
       "    <tr style=\"text-align: right;\">\n",
       "      <th></th>\n",
       "      <th>country_code</th>\n",
       "      <th>count</th>\n",
       "    </tr>\n",
       "  </thead>\n",
       "  <tbody>\n",
       "    <tr>\n",
       "      <th>74</th>\n",
       "      <td>IN</td>\n",
       "      <td>440134</td>\n",
       "    </tr>\n",
       "    <tr>\n",
       "      <th>139</th>\n",
       "      <td>NG</td>\n",
       "      <td>432983</td>\n",
       "    </tr>\n",
       "    <tr>\n",
       "      <th>58</th>\n",
       "      <td>Unknown</td>\n",
       "      <td>309625</td>\n",
       "    </tr>\n",
       "    <tr>\n",
       "      <th>39</th>\n",
       "      <td>BD</td>\n",
       "      <td>192363</td>\n",
       "    </tr>\n",
       "    <tr>\n",
       "      <th>146</th>\n",
       "      <td>VN</td>\n",
       "      <td>96927</td>\n",
       "    </tr>\n",
       "    <tr>\n",
       "      <th>3</th>\n",
       "      <td>CI</td>\n",
       "      <td>95814</td>\n",
       "    </tr>\n",
       "    <tr>\n",
       "      <th>130</th>\n",
       "      <td>MA</td>\n",
       "      <td>69185</td>\n",
       "    </tr>\n",
       "    <tr>\n",
       "      <th>33</th>\n",
       "      <td>GH</td>\n",
       "      <td>49175</td>\n",
       "    </tr>\n",
       "    <tr>\n",
       "      <th>77</th>\n",
       "      <td>CM</td>\n",
       "      <td>44962</td>\n",
       "    </tr>\n",
       "    <tr>\n",
       "      <th>115</th>\n",
       "      <td>SN</td>\n",
       "      <td>42320</td>\n",
       "    </tr>\n",
       "  </tbody>\n",
       "</table>\n",
       "</div>"
      ],
      "text/plain": [
       "    country_code   count\n",
       "74            IN  440134\n",
       "139           NG  432983\n",
       "58       Unknown  309625\n",
       "39            BD  192363\n",
       "146           VN   96927\n",
       "3             CI   95814\n",
       "130           MA   69185\n",
       "33            GH   49175\n",
       "77            CM   44962\n",
       "115           SN   42320"
      ]
     },
     "execution_count": 14,
     "metadata": {},
     "output_type": "execute_result"
    }
   ],
   "source": [
    "# 按照访问量排序下\n",
    "\n",
    "codePandas = codePandas.sort_values(by='count', ascending=False)\n",
    "\n",
    "codePandas.head(10)"
   ]
  },
  {
   "cell_type": "code",
   "execution_count": 15,
   "metadata": {},
   "outputs": [
    {
     "data": {
      "application/vnd.jupyter.widget-view+json": {
       "model_id": "550385a639cf43a1824e9ab6bcac42d3",
       "version_major": 2,
       "version_minor": 0
      },
      "text/plain": [
       "HTML(value='<embed src=data:image/svg+xml;charset=utf-8;base64,PD94bWwgdmVyc2lvbj0nMS4wJyBlbmNvZGluZz0ndXRmLTg…"
      ]
     },
     "metadata": {},
     "output_type": "display_data"
    }
   ],
   "source": [
    "# 图表展示下\n",
    "\n",
    "codes = {}\n",
    "for code in codePandas.values[:30]:\n",
    "    codes[code[0].lower()] = code[1]\n",
    "    \n",
    "import pygal\n",
    "from ipywidgets import HTML\n",
    "import base64\n",
    "worldmap_chart = pygal.maps.world.World()\n",
    "worldmap_chart.title = '访问量最多的30个国家'\n",
    "worldmap_chart.add('访问量top30', codes)\n",
    "b64 = base64.b64encode(worldmap_chart.render())\n",
    "src = 'data:image/svg+xml;charset=utf-8;base64,'+b64.decode(\"utf-8\")\n",
    "HTML('<embed src={}></embed>'.format(src))"
   ]
  },
  {
   "cell_type": "markdown",
   "metadata": {},
   "source": [
    "## 例3. 每小时访问量走势图"
   ]
  },
  {
   "cell_type": "code",
   "execution_count": 16,
   "metadata": {},
   "outputs": [
    {
     "name": "stdout",
     "output_type": "stream",
     "text": [
      "CPU times: user 4 ms, sys: 0 ns, total: 4 ms\n",
      "Wall time: 387 ms\n"
     ]
    }
   ],
   "source": [
    "%%time\n",
    "\n",
    "# 增加3个栏位， timestamp, hour, month\n",
    "\n",
    "df = df.withColumn('timestamp', df.events[0].timestamp)\n",
    "df = df.withColumn('hour', from_unixtime(df.events[0].timestamp, 'HH'))\n",
    "df = df.withColumn('month', from_unixtime(df.events[0].timestamp, 'yyyy-MM'))"
   ]
  },
  {
   "cell_type": "code",
   "execution_count": 17,
   "metadata": {},
   "outputs": [
    {
     "name": "stdout",
     "output_type": "stream",
     "text": [
      "+-----+------------+------+--------------------+---------------+-----+-----------+---+----------+----+-------+\n",
      "|brand|country_code|device|              events|     ip_address|model|    partner|ref| timestamp|hour|  month|\n",
      "+-----+------------+------+--------------------+---------------+-----+-----------+---+----------+----+-------+\n",
      "| Itel|          ML|    sp|[[click, 15358391...|  217.64.103.74|  P13|searchturbo|  m|1535839148|  05|2018-09|\n",
      "| Itel|          EG|    sp|[[click, 15358391...|196.141.135.133| A32F|searchturbo|  m|1535839156|  05|2018-09|\n",
      "| Itel|          NG|    sp|[[click, 15358391...| 197.210.226.58|  P32|searchturbo|  m|1535839161|  05|2018-09|\n",
      "| Itel|          IN|    sp|[[click, 15358391...| 157.48.123.237|  A22|searchturbo|  m|1535839162|  05|2018-09|\n",
      "| Itel|          EG|    sp|[[click, 15358391...|  105.199.93.33| A32F|searchturbo|  m|1535839163|  05|2018-09|\n",
      "| Itel|          EG|    sp|[[click, 15358391...|196.141.135.133| A32F|searchturbo|  m|1535839164|  05|2018-09|\n",
      "| Itel|          MA|    sp|[[click, 15358391...| 41.249.147.213| A32F|searchturbo|  m|1535839167|  05|2018-09|\n",
      "| Itel|          CI|    sp|[[click, 15358391...|   154.0.26.115|  P32|    Unknown|  m|1535839174|  05|2018-09|\n",
      "| Itel|          BJ|    sp|[[click, 15358391...|197.234.221.243| A32F|searchturbo|  m|1535839174|  05|2018-09|\n",
      "| Itel|          EG|    sp|[[click, 15358391...|196.141.135.133| A32F|searchturbo|  m|1535839175|  05|2018-09|\n",
      "+-----+------------+------+--------------------+---------------+-----+-----------+---+----------+----+-------+\n",
      "only showing top 10 rows\n",
      "\n",
      "CPU times: user 4 ms, sys: 0 ns, total: 4 ms\n",
      "Wall time: 370 ms\n"
     ]
    }
   ],
   "source": [
    "%%time\n",
    "\n",
    "# 按照小时聚合下\n",
    "\n",
    "group_by_hour = df.select('hour').groupBy('hour').count()\n",
    "df.show(10)"
   ]
  },
  {
   "cell_type": "code",
   "execution_count": 18,
   "metadata": {},
   "outputs": [
    {
     "name": "stdout",
     "output_type": "stream",
     "text": [
      "CPU times: user 8 ms, sys: 4 ms, total: 12 ms\n",
      "Wall time: 10.4 s\n"
     ]
    }
   ],
   "source": [
    "%%time\n",
    "# dataframe 转换成padnas\n",
    "group_by_hour_pandas_df = group_by_hour.toPandas()"
   ]
  },
  {
   "cell_type": "code",
   "execution_count": 19,
   "metadata": {},
   "outputs": [
    {
     "data": {
      "text/html": [
       "<div>\n",
       "<style scoped>\n",
       "    .dataframe tbody tr th:only-of-type {\n",
       "        vertical-align: middle;\n",
       "    }\n",
       "\n",
       "    .dataframe tbody tr th {\n",
       "        vertical-align: top;\n",
       "    }\n",
       "\n",
       "    .dataframe thead th {\n",
       "        text-align: right;\n",
       "    }\n",
       "</style>\n",
       "<table border=\"1\" class=\"dataframe\">\n",
       "  <thead>\n",
       "    <tr style=\"text-align: right;\">\n",
       "      <th></th>\n",
       "      <th>hour</th>\n",
       "      <th>count</th>\n",
       "    </tr>\n",
       "    <tr>\n",
       "      <th>hour</th>\n",
       "      <th></th>\n",
       "      <th></th>\n",
       "    </tr>\n",
       "  </thead>\n",
       "  <tbody>\n",
       "    <tr>\n",
       "      <th>0</th>\n",
       "      <td>0</td>\n",
       "      <td>118156</td>\n",
       "    </tr>\n",
       "    <tr>\n",
       "      <th>1</th>\n",
       "      <td>1</td>\n",
       "      <td>112722</td>\n",
       "    </tr>\n",
       "    <tr>\n",
       "      <th>2</th>\n",
       "      <td>2</td>\n",
       "      <td>85696</td>\n",
       "    </tr>\n",
       "    <tr>\n",
       "      <th>3</th>\n",
       "      <td>3</td>\n",
       "      <td>85365</td>\n",
       "    </tr>\n",
       "    <tr>\n",
       "      <th>4</th>\n",
       "      <td>4</td>\n",
       "      <td>77598</td>\n",
       "    </tr>\n",
       "  </tbody>\n",
       "</table>\n",
       "</div>"
      ],
      "text/plain": [
       "      hour   count\n",
       "hour              \n",
       "0        0  118156\n",
       "1        1  112722\n",
       "2        2   85696\n",
       "3        3   85365\n",
       "4        4   77598"
      ]
     },
     "execution_count": 19,
     "metadata": {},
     "output_type": "execute_result"
    }
   ],
   "source": [
    "# 按照访问量进行排序下\n",
    "group_by_hour_pandas_df = group_by_hour_pandas_df.sort_values(by='hour')\n",
    "\n",
    "# 强制转换整数类型\n",
    "group_by_hour_pandas_df.hour = group_by_hour_pandas_df['hour'].map(int)\n",
    "\n",
    "# 将小时设置pandas索引\n",
    "group_by_hour_pandas_df.index = group_by_hour_pandas_df.hour\n",
    "\n",
    "group_by_hour_pandas_df.head(5)"
   ]
  },
  {
   "cell_type": "code",
   "execution_count": 20,
   "metadata": {},
   "outputs": [
    {
     "data": {
      "text/plain": [
       "<matplotlib.axes._subplots.AxesSubplot at 0x7fa5fc0c82e8>"
      ]
     },
     "execution_count": 20,
     "metadata": {},
     "output_type": "execute_result"
    },
    {
     "data": {
      "image/png": "[encoded data removed]",
      "text/plain": [
       "<Figure size 1080x360 with 1 Axes>"
      ]
     },
     "metadata": {
      "needs_background": "light"
     },
     "output_type": "display_data"
    }
   ],
   "source": [
    "# 画个图表\n",
    "hourcount = (group_by_hour_pandas_df.to_dict())['count']\n",
    "index = list(range(0,24))\n",
    "cols = []\n",
    "for i in index:\n",
    "    if i not in hourcount:\n",
    "        cols.append(0)\n",
    "    else:\n",
    "        cols.append(hourcount[i])\n",
    "\n",
    "group_by_hour_pandas_df = pd.DataFrame({'num': cols})\n",
    "\n",
    "\n",
    "group_by_hour_pandas_df.plot(title='vas project-access count by hour', kind='line', figsize=(15, 5), xticks=group_by_hour_pandas_df.index)"
   ]
  },
  {
   "cell_type": "markdown",
   "metadata": {},
   "source": [
    "## 例4. 每个月访问量"
   ]
  },
  {
   "cell_type": "code",
   "execution_count": 21,
   "metadata": {},
   "outputs": [
    {
     "name": "stdout",
     "output_type": "stream",
     "text": [
      "CPU times: user 116 ms, sys: 0 ns, total: 116 ms\n",
      "Wall time: 10.3 s\n"
     ]
    },
    {
     "data": {
      "image/png": "[encoded data removed]",
      "text/plain": [
       "<Figure size 1080x360 with 1 Axes>"
      ]
     },
     "metadata": {
      "needs_background": "light"
     },
     "output_type": "display_data"
    }
   ],
   "source": [
    "%%time\n",
    "group_by_month =df.select('month').groupBy('month').count()\n",
    "\n",
    "group_by_month_pandas = group_by_month.limit(5).toPandas()\n",
    "group_by_month_pandas.index = group_by_month_pandas['month']\n",
    "group_by_month_pandas.index.name = 'm';\n",
    "group_by_month_pandas = group_by_month_pandas.sort_values(by='month', ascending=True)\n",
    "\n",
    "## 每月uv\n",
    "group_by_month_pandas[['count']].plot(kind='bar', figsize=(15, 5))"
   ]
  },
  {
   "cell_type": "code",
   "execution_count": null,
   "metadata": {},
   "outputs": [],
   "source": []
  }
 ],
 "metadata": {
  "kernelspec": {
   "display_name": "Python 3",
   "language": "python",
   "name": "python3"
  },
  "language_info": {
   "codemirror_mode": {
    "name": "ipython",
    "version": 3
   },
   "file_extension": ".py",
   "mimetype": "text/x-python",
   "name": "python",
   "nbconvert_exporter": "python",
   "pygments_lexer": "ipython3",
   "version": "3.5.2"
  }
 },
 "nbformat": 4,
 "nbformat_minor": 2
}
