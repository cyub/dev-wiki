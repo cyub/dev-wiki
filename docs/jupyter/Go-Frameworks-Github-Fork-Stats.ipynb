{
 "cells": [
  {
   "cell_type": "code",
   "execution_count": 1,
   "metadata": {},
   "outputs": [
    {
     "name": "stdout",
     "output_type": "stream",
     "text": [
      "WARNING: pip is being invoked by an old script wrapper. This will fail in a future version of pip.\n",
      "Please see https://github.com/pypa/pip/issues/5599 for advice on fixing the underlying issue.\n",
      "To avoid this problem you can invoke Python with '-m pip' instead of running pip directly.\n",
      "Defaulting to user installation because normal site-packages is not writeable\n",
      "Requirement already satisfied: pandas in /home/deploy/.local/lib/python3.6/site-packages (1.0.0)\n",
      "Requirement already satisfied: matplotlib in /home/deploy/.local/lib/python3.6/site-packages (3.1.3)\n",
      "Requirement already satisfied: python-dateutil>=2.6.1 in /home/deploy/.local/lib/python3.6/site-packages (from pandas) (2.8.1)\n",
      "Requirement already satisfied: pytz>=2017.2 in /home/deploy/.local/lib/python3.6/site-packages (from pandas) (2019.3)\n",
      "Requirement already satisfied: numpy>=1.13.3 in /home/deploy/.local/lib/python3.6/site-packages (from pandas) (1.18.1)\n",
      "Requirement already satisfied: kiwisolver>=1.0.1 in /home/deploy/.local/lib/python3.6/site-packages (from matplotlib) (1.1.0)\n",
      "Requirement already satisfied: cycler>=0.10 in /home/deploy/.local/lib/python3.6/site-packages (from matplotlib) (0.10.0)\n",
      "Requirement already satisfied: pyparsing!=2.0.4,!=2.1.2,!=2.1.6,>=2.0.1 in /home/deploy/.local/lib/python3.6/site-packages (from matplotlib) (2.4.6)\n",
      "Requirement already satisfied: six>=1.5 in /home/deploy/.local/lib/python3.6/site-packages (from python-dateutil>=2.6.1->pandas) (1.14.0)\n",
      "Requirement already satisfied: setuptools in /home/deploy/.local/lib/python3.6/site-packages (from kiwisolver>=1.0.1->matplotlib) (45.1.0)\n"
     ]
    }
   ],
   "source": [
    "!pip install pandas matplotlib"
   ]
  },
  {
   "cell_type": "code",
   "execution_count": 2,
   "metadata": {},
   "outputs": [],
   "source": [
    "import requests\n",
    "import pandas as pd"
   ]
  },
  {
   "cell_type": "code",
   "execution_count": 3,
   "metadata": {},
   "outputs": [
    {
     "data": {
      "text/html": [
       "<div>\n",
       "<style scoped>\n",
       "    .dataframe tbody tr th:only-of-type {\n",
       "        vertical-align: middle;\n",
       "    }\n",
       "\n",
       "    .dataframe tbody tr th {\n",
       "        vertical-align: top;\n",
       "    }\n",
       "\n",
       "    .dataframe thead th {\n",
       "        text-align: right;\n",
       "    }\n",
       "</style>\n",
       "<table border=\"1\" class=\"dataframe\">\n",
       "  <thead>\n",
       "    <tr style=\"text-align: right;\">\n",
       "      <th></th>\n",
       "      <th>forks</th>\n",
       "      <th>stars</th>\n",
       "      <th>watchs</th>\n",
       "      <th>openIssues</th>\n",
       "    </tr>\n",
       "  </thead>\n",
       "  <tbody>\n",
       "    <tr>\n",
       "      <th>Gin</th>\n",
       "      <td>4074</td>\n",
       "      <td>35455</td>\n",
       "      <td>1212</td>\n",
       "      <td>242</td>\n",
       "    </tr>\n",
       "    <tr>\n",
       "      <th>Beego</th>\n",
       "      <td>4688</td>\n",
       "      <td>23243</td>\n",
       "      <td>1268</td>\n",
       "      <td>813</td>\n",
       "    </tr>\n",
       "    <tr>\n",
       "      <th>Iris</th>\n",
       "      <td>1942</td>\n",
       "      <td>17507</td>\n",
       "      <td>683</td>\n",
       "      <td>5</td>\n",
       "    </tr>\n",
       "    <tr>\n",
       "      <th>Revel</th>\n",
       "      <td>1357</td>\n",
       "      <td>11575</td>\n",
       "      <td>558</td>\n",
       "      <td>87</td>\n",
       "    </tr>\n",
       "    <tr>\n",
       "      <th>Echo</th>\n",
       "      <td>1508</td>\n",
       "      <td>16500</td>\n",
       "      <td>551</td>\n",
       "      <td>46</td>\n",
       "    </tr>\n",
       "    <tr>\n",
       "      <th>Buffalo</th>\n",
       "      <td>430</td>\n",
       "      <td>5372</td>\n",
       "      <td>171</td>\n",
       "      <td>70</td>\n",
       "    </tr>\n",
       "  </tbody>\n",
       "</table>\n",
       "</div>"
      ],
      "text/plain": [
       "         forks  stars  watchs  openIssues\n",
       "Gin       4074  35455    1212         242\n",
       "Beego     4688  23243    1268         813\n",
       "Iris      1942  17507     683           5\n",
       "Revel     1357  11575     558          87\n",
       "Echo      1508  16500     551          46\n",
       "Buffalo    430   5372     171          70"
      ]
     },
     "execution_count": 3,
     "metadata": {},
     "output_type": "execute_result"
    }
   ],
   "source": [
    "# 统计go框架fork次数信息\n",
    "\n",
    "frameworks = {\n",
    "    \"Gin\":\"gin-gonic/gin\",\n",
    "    \"Beego\": \"astaxie/beego\",\n",
    "    \"Iris\": \"kataras/iris\",\n",
    "    \"Revel\": \"revel/revel\",\n",
    "    \"Echo\": \"labstack/echo\",\n",
    "    \"Buffalo\": \"gobuffalo/buffalo\"\n",
    "}\n",
    "\n",
    "\n",
    "stats = {}\n",
    "for name in frameworks.keys():\n",
    "    url = \"https://api.github.com/repos/\" + frameworks[name]\n",
    "    stats[name] = requests.get(url=url).json() # 获取仓库统计信息\n",
    "\n",
    "indexs = []\n",
    "forks = []\n",
    "stars = []\n",
    "watchs = []\n",
    "openIssues = []\n",
    "\n",
    "for name in stats:\n",
    "    indexs += [name]\n",
    "    forks += [stats[name]['forks_count']] # fork次数\n",
    "    stars += [stats[name]['watchers_count']] # star次数\n",
    "    watchs += [stats[name]['subscribers_count']] # watch次数\n",
    "    openIssues += [stats[name]['open_issues_count']] # open_issue次数\n",
    "\n",
    "df = pd.DataFrame({\n",
    "    'forks':forks,\n",
    "    'stars':stars,\n",
    "    'watchs':watchs,\n",
    "    'openIssues': openIssues\n",
    "}, index = indexs)\n",
    "\n",
    "df"
   ]
  },
  {
   "cell_type": "code",
   "execution_count": 4,
   "metadata": {},
   "outputs": [
    {
     "data": {
      "text/plain": [
       "<matplotlib.axes._subplots.AxesSubplot at 0x7f6786d59240>"
      ]
     },
     "execution_count": 4,
     "metadata": {},
     "output_type": "execute_result"
    },
    {
     "data": {
      "image/png": "[encoded data removed]",
      "text/plain": [
       "<Figure size 1080x576 with 1 Axes>"
      ]
     },
     "metadata": {
      "needs_background": "light"
     },
     "output_type": "display_data"
    }
   ],
   "source": [
    "df.plot(kind='bar', figsize=(15, 8))"
   ]
  }
 ],
 "metadata": {
  "kernelspec": {
   "display_name": "Python 3",
   "language": "python",
   "name": "python3"
  },
  "language_info": {
   "codemirror_mode": {
    "name": "ipython",
    "version": 3
   },
   "file_extension": ".py",
   "mimetype": "text/x-python",
   "name": "python",
   "nbconvert_exporter": "python",
   "pygments_lexer": "ipython3",
   "version": "3.6.9"
  }
 },
 "nbformat": 4,
 "nbformat_minor": 4
}
