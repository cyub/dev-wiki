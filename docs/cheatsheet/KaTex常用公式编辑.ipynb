{
 "cells": [
  {
   "cell_type": "markdown",
   "id": "dc81939e-7d67-48ba-8a08-d942220e564e",
   "metadata": {},
   "source": [
    "# KaTex 常用公式编辑\n",
    "\n",
    "来源：[KaTex 常用公式编辑](https://blog.iyatt.com/?p=7854)"
   ]
  },
  {
   "cell_type": "markdown",
   "id": "d33fa5ce-8bb2-4027-948a-0200b0a9005a",
   "metadata": {},
   "source": [
    "## TeX，LaTeX和KaTeX区别"
   ]
  },
  {
   "cell_type": "markdown",
   "id": "03f7e830-3341-4d05-bef4-5d09792c519f",
   "metadata": {},
   "source": [
    "### TeX - 计算机排版系统\n",
    "七十年代末，Donald E. Knuth在看自己的《电脑编程的艺术》校样时，感觉计算机排版的校样质量低到无法忍受，于是决定自己开发一个高质量的计算机排版系统，这样就有了 TeX 。\n",
    "TeX 在希腊语中这个词的意思是“科技”和“艺术”。"
   ]
  },
  {
   "cell_type": "markdown",
   "id": "24c7a34b-11a2-4686-92c2-62b41b7feab7",
   "metadata": {},
   "source": [
    "### LaTeX - TEX宏集\n",
    "LaTeX 是一套建在 TeX 之上的，当今世界上最流行和使用最广泛的TEX宏集。LaTeX 是一套建在 TeX 之上的宏。LaTeX 背后的理念是将焦点从格式转移到文档内容。在 LaTeX 命令是为了给文档内容提供结构。已经按照一套排版标准编写好模板，你只需要指定就行了。\n",
    "由美国计算机科学家莱斯利·兰伯特在20世纪80年代初期开发，利用这种格式系统的处理，即使用户没有排版和程序设计的知识也可以充分发挥由TeX所提供的强大功能。"
   ]
  },
  {
   "cell_type": "markdown",
   "id": "6ff276ec-0045-4d7d-b611-ba30ae46e436",
   "metadata": {},
   "source": [
    "### KaTeX和MathJax - JavaScript渲染器\n",
    "\n",
    "目前来说，在网页上显示数学公式最常用的方案是引入 JavaScript 对 LaTeX 代码渲染，如维基百科、segmentfault 都是采用这样的方案，其中使用最多的库是 MathJax 和 KaTeX。"
   ]
  },
  {
   "cell_type": "markdown",
   "id": "9aff6005-0208-433a-a0f9-1ca6497365c4",
   "metadata": {},
   "source": [
    "## 希腊字母"
   ]
  },
  {
   "cell_type": "markdown",
   "id": "923e56f5-6720-4cf9-8c6f-56359504c47f",
   "metadata": {},
   "source": [
    "大写 | 代码  | 小写 | 代码\n",
    "--- | --- | --- | ---\n",
    "A \t| A \t| $\\alpha$ | \t\\alpha\n",
    "B \t| B \t| $\\beta$ | \t\\beta\n",
    "$\\Gamma$ |\t\\Gamma \t| $\\gamma$ |\t\\gamma\n",
    "$\\Delta$ \t| \\Delta \t| $\\delta$ | \t\\delta\n",
    "E \t| E \t|$\\epsilon$ | \t\\epsilon\n",
    "Z \t| Z \t| $\\zeta$ |\t\\zeta\n",
    "H \t| H \t| $\\eta$ |  \t\\eta\n",
    "$\\Theta$ \t| \\Theta  |\t$\\theta$ |\t\\theta\n",
    "I \t| I \t| $\\iota$ \t| \\iota\n",
    "K \t| K \t| $\\kappa$\t| \\kappa\n",
    "$\\Lambda$ \t| \\Lambda \t| $\\lambda$ \t| \\lambda\n",
    "M \t| M \t| $\\mu$\t| \\mu\n",
    "N \t| N \t| $\\nu$ \t| \\nu\n",
    "$\\Xi$\t| \\Xi \t| $\\xi$ \t| \\xi\n",
    "O \t| O \t| $\\omicron$\t| \\omicron\n",
    "$\\Pi$\t| \\Pi \t| $\\pi$ \t| \\pi\n",
    "P \t| P \t| $\\rho$ \t| \\rho\n",
    "$\\Sigma$ \t| \\Sigma |\t$\\sigma$ \t|\\sigma\n",
    "T \t| T \t| $\\tau$ \t| \\tau\n",
    "Υ \t| Υ \t| $\\upsilon$ \t| \\upsilon\n",
    "$\\Phi$\t| \\Phi \t| $\\phi$ \t| \\phi\n",
    "X \t| X \t| $\\chi$ \t| \\chi\n",
    "$\\Psi$ \t| \\Psi \t| $\\psi$ \t| \\psi\n",
    "$\\Omega$\t| \\Omega \t| $\\omega$ \t| \\omega"
   ]
  },
  {
   "cell_type": "markdown",
   "id": "9f133d97-cc43-4131-9279-689ebc0f4f85",
   "metadata": {},
   "source": [
    "## 符号"
   ]
  },
  {
   "cell_type": "markdown",
   "id": "046a874d-bbcc-477f-b088-3dbe58f7d09a",
   "metadata": {},
   "source": [
    "\n",
    "含义 | 代码 | 符号\n",
    "--- | --- | ---\n",
    "乘  |  \\times  |  $\\times$\n",
    "除  |  \\div  |  $\\div$\n",
    "加减  |  \\pm  |  $\\pm$\n",
    "减加  |  \\mp  |  $\\mp$\n",
    "偏导数  |  \\partial  |  $\\partial$\n",
    "小于  |  \\lt  |  $\\lt$\n",
    "大于  |  \\gt  |  $\\gt$\n",
    "小于等于  |  \\le  |  $\\le$\n",
    "大于等于  |  \\ge  |  $\\ge$\n",
    "不等于  |  \\ne  |  $\\ne$\n",
    "加 \\not 作 否定 |   \\not  \\lt  |  $\\not  \\lt$\n",
    "并集  |  \\cup  |  $\\cup$\n",
    "交集  |  \\cap  |  $\\cap$\n",
    "子集  | \\subset  |  $\\subset$\n",
    "差集  |  \\setminus  |  $\\setminus$\n",
    "非子集  |  \\subsetneq  |  $\\subsetneq$\n",
    "父集  |  \\supset  |  $\\supset$\n",
    "属于  |  \\in  |  $\\in$\n",
    "不属于  |  \\notin  |  $\\notin$\n",
    "空集  |  \\emptyset  |  $\\emptyset$\n",
    "空  |  \\varnothing  |  $\\varnothing$\n",
    "虚数  i、j  |  \\imath ,  \\jmath  |  $\\imath$, $\\jmath$\n",
    "异或  |  \\oplus  |  $\\oplus$\n",
    "同与  |  \\otimes  |  $\\otimes$\n",
    "同或  |  \\odot  |  $\\odot$\n",
    "与  |  \\land  |  $\\land$\n",
    "或  |  \\lor  |  $\\lor$\n",
    "非  |  \\lnot  |  $\\lnot$\n",
    "点乘  |  \\cdot  |  $\\cdot$\n",
    "平均运算符  |  \\overline{x}  |  $\\overline{x}$\n",
    "向量（单） | \\vec{x}  |  \\vec{x}\n",
    "向量（多）| \\overrightarrow{xy}  |  $\\overrightarrow{xy}$\n",
    "梯度算子  |  \\nabla  |  $\\nabla$\n",
    "空格   \\  |     a\\  b  |  $a\\ b$\n",
    "任意  |  \\forall  |  $\\forall$\n",
    "存在  |  \\exists  |  $\\exists$\n",
    "反斜杠  |  \\backslash  |  $\\backslash$\n",
    "<i></i> |  \\to | $\\to$\n",
    "<i></i> |  \\rightarrow | $\\rightarrow$\n",
    "<i></i> |  \\leftarrow | $\\leftarrow$\n",
    "<i></i> |  \\leftrightarrow | $\\leftrightarrow$\n",
    "<i></i> |  \\uparrow | $\\uparrow$\n",
    "<i></i> |  \\downarrow | $\\downarrow$\n",
    "<i></i> |  \\updownarrow | $\\updownarrow$\n",
    "<i></i> |  \\Rightarrow | $\\Rightarrow$\n",
    "<i></i> |  \\Leftarrow | $\\Leftarrow$\n",
    "<i></i> |  \\Leftrightarrow | $\\Leftrightarrow$\n",
    "<i></i> |  \\Uparrow | $\\Uparrow$\n",
    "<i></i> |  \\Downarrow | $\\Downarrow$\n",
    "<i></i> |  \\Updownarrow | $\\Updownarrow$\n",
    "<i></i> |  \\longrightarrow | $\\longrightarrow$\n",
    "<i></i> |  \\Longrightarrow | $\\Longrightarrow$\n",
    "<i></i> |  \\twoheadrightarrow | $\\twoheadrightarrow$\n",
    "<i></i> |  \\rightarrowtail | $\\rightarrowtail$\n",
    "<i></i> |  \\looparrowright | $\\looparrowright$\n",
    "<i></i> |  \\curvearrowright | $\\curvearrowright$\n",
    "<i></i> |  \\circlearrowright | $\\circlearrowright$\n",
    "<i></i> |  \\Rsh | $\\Rsh$\n",
    "<i></i> |  \\multimap | $\\multimap$\n",
    "<i></i> |  \\leftrightsquigarrow | $\\leftrightsquigarrow$\n",
    "<i></i> |  \\rightsquigarrow | $\\rightsquigarrow$\n",
    "<i></i> |  \\leadsto | $\\leadsto$\n",
    "<i></i> |  \\nearrow | $\\nearrow$\n",
    "<i></i> |  \\searrow | $\\searrow$\n",
    "<i></i> |  \\swarrow | $\\swarrow$\n",
    "<i></i> |  \\nwarrow | $\\nwarrow$\n",
    "<i></i> |  \\nleftarrow | $\\nleftarrow$\n",
    "<i></i> |  \\nrightarrow | $\\nrightarrow$\n",
    "<i></i> |  \\nLeftarrow | $\\nLeftarrow$\n",
    "<i></i> |  \\nRightarrow | $\\nRightarrow$\n",
    "<i></i> |  \\nleftrightarrow | $\\nleftrightarrow$\n",
    "<i></i> |  \\nLeftrightarrow | $\\nLeftrightarrow$\n",
    "<i></i> |  \\dashrightarrow | $\\dashrightarrow$\n",
    "<i></i> |  \\dashleftarrow | $\\dashleftarrow$\n",
    "<i></i> |  \\leftleftarrows | $\\leftleftarrows$\n",
    "<i></i> |  \\leftrightarrows | $\\leftrightarrows$\n",
    "<i></i> |  \\twoheadleftarrow | $\\twoheadleftarrow$\n",
    "<i></i> |  \\leftarrowtail | $\\leftarrowtail$\n",
    "<i></i> |  \\looparrowleft | $\\looparrowleft$\n",
    "<i></i> |  \\curvearrowleft | $\\curvearrowleft$\n",
    "<i></i> |  \\circlearrowleft | $\\circlearrowleft$\n",
    "<i></i> |  \\Lsh | $\\Lsh$\n",
    "<i></i> |  \\mapsto | $\\mapsto$\n",
    "<i></i> |  \\hookleftarrow | $\\hookleftarrow$\n",
    "<i></i> |  \\hookrightarrow | $\\hookrightarrow$\n",
    "<i></i> |  \\upharpoonright | $\\upharpoonright$\n",
    "<i></i> |  \\upharpoonleft | $\\upharpoonleft$\n",
    "<i></i> |  \\downharpoonright | $\\downharpoonright$\n",
    "<i></i> |  \\downharpoonleft | $\\downharpoonleft$\n",
    "<i></i> |  \\leftharpoonup | $\\leftharpoonup$\n",
    "<i></i> |  \\rightharpoonup | $\\rightharpoonup$\n",
    "<i></i> |  \\leftharpoondown | $\\leftharpoondown$\n",
    "<i></i> |  \\rightharpoondown | $\\rightharpoondown$\n",
    "<i></i> |  \\upuparrows | $\\upuparrows$\n",
    "<i></i> |  \\downdownarrows | $\\downdownarrows$\n",
    "<i></i> |  \\rightrightarrows | $\\rightrightarrows$\n",
    "<i></i> |  \\rightleftarrows | $\\rightleftarrows$\n",
    "<i></i> |  \\rightrightarrows | $\\rightrightarrows$\n",
    "<i></i> |  \\rightleftarrows | $\\rightleftarrows$\n",
    "<i></i> |  \\rightleftharpoons | $\\rightleftharpoons$\n",
    "<i></i> |  \\leftrightharpoons | $\\leftrightharpoons$\n",
    "<i></i> |  \\mapsto | $\\mapsto$\n",
    "<i></i> |  \\forall | $\\forall$\n",
    "<i></i> |  \\exists | $\\exists$\n",
    "<i></i> |  \\top | $\\top$\n",
    "<i></i> |  \\bot | $\\bot$\n",
    "<i></i> |  \\vDash | $\\vDash$\n",
    "<i></i> |  \\star | $\\star$\n",
    "<i></i> |  \\ast | $\\ast$\n",
    "<i></i> |  \\bullet | $\\bullet$\n",
    "约等于 | \\approx | $\\approx$\n",
    "波浪号 | \\sim | $\\sim$\n",
    "<i></i> |  \\equiv | $\\equiv$\n",
    "<i></i> |  \\prec | $\\prec$\n",
    "无穷 | \\infty | $\\infty$\n",
    "<i></i> |  \\aleph_o | $\\aleph_o$\n",
    "<i></i> |  \\Im | $\\Im$\n",
    "<i></i> |  \\Re | $\\Re$\n",
    "<i></i> |  \\ldots | $\\ldots$\n",
    "<i></i> |  \\cdots | $\\cdots$\n",
    "<i></i> |  \\vdots | $\\vdots$\n",
    "<i></i> |  \\ddots | $\\ddots$\n",
    "<i></i> |  \\hat x | $\\hat x$\n",
    "<i></i> |  \\widehat {xy} | $\\widehat {xy}$\n",
    "<i></i> |  \\dot x | $\\dot x$\n",
    "<i></i> |  \\ddot x | $\\ddot x$\n",
    "<i></i> |  \\dot {\\dot x} | $\\dot {\\dot x}$\n",
    "<i></i> |  \\mathring{U} | $\\mathring{U}$"
   ]
  },
  {
   "cell_type": "markdown",
   "id": "210c05a6-24a0-4a2a-8791-37cf120e7adf",
   "metadata": {
    "editable": true,
    "slideshow": {
     "slide_type": ""
    },
    "tags": []
   },
   "source": [
    "## 上下添加公式"
   ]
  },
  {
   "cell_type": "markdown",
   "id": "a5f66a33-5426-458c-a990-b70676676894",
   "metadata": {},
   "source": [
    "代码 | 符号\n",
    "--- | ---\n",
    "\\overset{x=9}{=} | $\\overset{x=9}{=}$\n",
    "\\underset{x=\\sin\\theta}{=} | $\\underset{x=\\sin\\theta}{=}$\n",
    "\\xlongequal[下方公式]{上方公式} | $\\xlongequal[下方公式]{上方公式}$"
   ]
  },
  {
   "cell_type": "markdown",
   "id": "0e03b2a0-ce3e-4307-8aa3-046f3b00de15",
   "metadata": {},
   "source": [
    "## 上下大括号"
   ]
  },
  {
   "cell_type": "markdown",
   "id": "4dd3cdf7-d268-48fa-97e6-c78e2331d249",
   "metadata": {},
   "source": [
    "代码 | 符号\n",
    "--- | ---\n",
    "\\overbrace{a+b+c}^x | $\\overbrace{a+b+c}^x$\n",
    "a+\\underbrace{b+c}_y | $a+\\underbrace{b+c}_y$"
   ]
  },
  {
   "cell_type": "markdown",
   "id": "8271bc55-d6a5-46c5-a220-1dae6b87302d",
   "metadata": {},
   "source": [
    "## 上下标"
   ]
  },
  {
   "cell_type": "markdown",
   "id": "88c8d874-ba94-4b88-9a85-b2288e980b57",
   "metadata": {},
   "source": [
    "代码 | 符号\n",
    "--- | ---\n",
    "A^m_n | $A^m_n$\n",
    "A_n^m | $A_n^m$\n",
    "x^2 | $x^2$\n",
    "a_n | $a_n$\n",
    "a_{n+1} | $a_{n+1}$\n",
    "A^{B^C} | $A^{B^C}$\n",
    "{A^B}^C | ${A^B}^C$"
   ]
  },
  {
   "cell_type": "markdown",
   "id": "3a1c9405-6fd7-4673-861d-20ce4a8a3921",
   "metadata": {},
   "source": [
    "## 根号"
   ]
  },
  {
   "cell_type": "markdown",
   "id": "8ccc9cec-4f6a-441c-892b-99b21b2f2515",
   "metadata": {},
   "source": [
    "代码 | 符号\n",
    "--- | ---\n",
    "\\sqrt{25} | $\\sqrt{25}$\n",
    "\\sqrt[3]{27} | $\\sqrt[3]{27}$"
   ]
  },
  {
   "cell_type": "markdown",
   "id": "a66546a0-f409-4777-b022-19161de025c1",
   "metadata": {},
   "source": [
    "## 分式"
   ]
  },
  {
   "cell_type": "markdown",
   "id": "92310f8a-64d0-4780-b16d-2805a4cb9baa",
   "metadata": {},
   "source": [
    "代码 | 符号\n",
    "--- | ---\n",
    "\\frac{a+b}{a-b} | $\\frac{a+b}{a-b}$\n",
    "\\frac{4}{5} | $\\frac{4}{5}$"
   ]
  },
  {
   "cell_type": "markdown",
   "id": "fc0e9179-199b-4df8-9370-4f104ded4ea4",
   "metadata": {},
   "source": [
    "## 括号\n",
    "\n",
    "(), [] 直接使用，{ 和 } 有特殊含义，需要使用 \\{ 和 \\} 表示。尖括号使用:\n"
   ]
  },
  {
   "cell_type": "markdown",
   "id": "6eedab25-aded-4a94-84ce-619b812fba76",
   "metadata": {},
   "source": [
    "代码 | 符号\n",
    "--- | ---\n",
    "\\langle | $\\langle$\n",
    "\\rangle | $\\rangle$"
   ]
  },
  {
   "cell_type": "markdown",
   "id": "a9100a76-f081-4442-9b85-6c05c1816271",
   "metadata": {},
   "source": [
    "## 求和"
   ]
  },
  {
   "cell_type": "markdown",
   "id": "ec43f531-1729-45a2-92ef-6eccc0a6fd66",
   "metadata": {},
   "source": [
    "代码 | 符号\n",
    "--- | ---\n",
    "\\sum_{i=1}^n | $\\sum_{i=1}^n$\n",
    "\\sum_{j=0}^k | $\\sum_{j=0}^k$"
   ]
  },
  {
   "cell_type": "markdown",
   "id": "93846beb-86fe-4f64-9758-a5df8e4ce453",
   "metadata": {},
   "source": [
    "## 连乘"
   ]
  },
  {
   "cell_type": "markdown",
   "id": "eed403e2-3358-4dd6-811d-5c1590319d9f",
   "metadata": {},
   "source": [
    "代码 | 符号\n",
    "--- | ---\n",
    "\\prod_{i=0}^nx | $\\prod_{i=0}^nx$"
   ]
  },
  {
   "cell_type": "markdown",
   "id": "9482bd16-f404-4f4d-8c8c-7b36981dc817",
   "metadata": {},
   "source": [
    "## 积分"
   ]
  },
  {
   "cell_type": "markdown",
   "id": "60b9d6ad-3106-4d20-9f04-c0d12ab3207d",
   "metadata": {},
   "source": [
    "代码 | 符号\n",
    "--- | ---\n",
    "\\int_0^x | $\\int_0^x$\n",
    "\\iint_0^x | $\\iint_0^x$\n",
    "\\iiint_0^x | $\\iiint_0^x$"
   ]
  },
  {
   "cell_type": "markdown",
   "id": "fccb3ffa-0221-4859-8241-5b6aeaae167f",
   "metadata": {},
   "source": [
    "## 极限"
   ]
  },
  {
   "cell_type": "markdown",
   "id": "0fd69ae8-e7ac-47f7-9e43-4017fb4f0be9",
   "metadata": {},
   "source": [
    "代码 | 符号\n",
    "--- | ---\n",
    "\\lim_{x \\to \\infty}(1 + \\frac{1}{x})^x | $\\lim_{x \\to \\infty}(1 + \\frac{1}{x})^x$"
   ]
  },
  {
   "cell_type": "markdown",
   "id": "2a078686-42b7-4a9b-b0b7-9d81a42f23d4",
   "metadata": {},
   "source": [
    "## 换行等号对齐"
   ]
  },
  {
   "cell_type": "markdown",
   "id": "65c153ef-b805-4c58-89ed-cecf7bdafadd",
   "metadata": {},
   "source": [
    "代码：\n",
    "\n",
    "```katex\n",
    "\\begin{aligned}\n",
    "19&=10+9 \\\\\n",
    "&=11+8 \\\\\n",
    "&=12+7\n",
    "\\end{aligned}\n",
    "```"
   ]
  },
  {
   "cell_type": "markdown",
   "id": "1fa3402d-3134-4361-a79f-c3ee735fc129",
   "metadata": {},
   "source": [
    "符号：\n",
    "$$\n",
    "\\begin{aligned}\n",
    "19&=10+9 \\\\\n",
    "&=11+8 \\\\\n",
    "&=12+7\n",
    "\\end{aligned}\n",
    "$$"
   ]
  },
  {
   "cell_type": "markdown",
   "id": "f21e1657-3d3e-40d9-b282-30446ff74e25",
   "metadata": {},
   "source": [
    "## 分类"
   ]
  },
  {
   "cell_type": "markdown",
   "id": "0a875e3a-c564-46c3-b5ec-a26d4c7f0f45",
   "metadata": {},
   "source": [
    "代码：\n",
    "\n",
    "```\n",
    "f(x)=\n",
    "\\begin{cases}\n",
    "x+1, &x<0\\\\\n",
    "0, &x=0\\\\\n",
    "2x-1, &x>0\n",
    "\\end{cases}\n",
    "```"
   ]
  },
  {
   "cell_type": "markdown",
   "id": "09ecc9f8-52f3-4af2-b51b-edda0f02a8cc",
   "metadata": {},
   "source": [
    "符号：\n",
    "\n",
    "$$\n",
    "f(x)=\n",
    "\\begin{cases}\n",
    "x+1, &x<0\\\\\n",
    "0, &x=0\\\\\n",
    "2x-1, &x>0\n",
    "\\end{cases}\n",
    "$$"
   ]
  },
  {
   "cell_type": "markdown",
   "id": "88fc710b-7b01-44d3-b751-f2f4f778d5a6",
   "metadata": {},
   "source": [
    "## 方程组"
   ]
  },
  {
   "cell_type": "markdown",
   "id": "670c8919-b251-453a-a56c-99f21758c3b9",
   "metadata": {},
   "source": [
    "代码：\n",
    "\n",
    "```\n",
    "\\left \\{\n",
    "\\begin{array}{l} % l 靠左、c 居中、r 靠右\n",
    "x+y+z=6 \\\\\n",
    "2x-y+z=3 \\\\\n",
    "x+y-z=0\n",
    "\\end{array}\n",
    "\\right.\n",
    "```"
   ]
  },
  {
   "cell_type": "markdown",
   "id": "3b78b46a-c0da-456f-963c-32d4220c00f3",
   "metadata": {},
   "source": [
    "符号：\n",
    "\n",
    "$$\n",
    "\\left \\{\n",
    "\\begin{array}{l} % l 靠左、c 居中、r 靠右\n",
    "x+y+z=6 \\\\\n",
    "2x-y+z=3 \\\\\n",
    "x+y-z=0\n",
    "\\end{array}\n",
    "\\right.\n",
    "$$"
   ]
  },
  {
   "cell_type": "markdown",
   "id": "1ca19642-46e2-419a-b0e3-ed82fcde1542",
   "metadata": {},
   "source": [
    "## 多列对齐"
   ]
  },
  {
   "cell_type": "markdown",
   "id": "e12ef27f-75b8-4266-9888-17aee3d9a504",
   "metadata": {},
   "source": [
    "代码：\n",
    "\n",
    "```\n",
    "\\begin{array}{l l} % l 靠左、c 居中、r 靠右\n",
    "x+y+z=6 & x+y+z=6\\\\\n",
    "2x-y+z=3 & 2x-y+z=3 \\\\\n",
    "x+y-z=0 & x+y-z=0\n",
    "\\end{array}\n",
    "```\n",
    "\n",
    "符号：\n",
    "\n",
    "$$\n",
    "\\begin{array}{l l} % l 靠左、c 居中、r 靠右\n",
    "x+y+z=6 & x+y+z=6\\\\\n",
    "2x-y+z=3 & 2x-y+z=3 \\\\\n",
    "x+y-z=0 & x+y-z=0\n",
    "\\end{array}\n",
    "$$"
   ]
  },
  {
   "cell_type": "markdown",
   "id": "aff1a7d0-cbef-43ad-9a18-ca6a21a7e3e4",
   "metadata": {},
   "source": [
    "## 矩阵"
   ]
  },
  {
   "cell_type": "markdown",
   "id": "271c5d70-774f-46cf-93d3-f3ec021fcfb3",
   "metadata": {},
   "source": [
    "代码：\n",
    "\n",
    "```\n",
    "\\begin{matrix}\n",
    "1&2&3 \\\\\n",
    "4&5&6 \\\\\n",
    "7&8&9\n",
    "\\end{matrix}\n",
    "```\n",
    "\n",
    "符号：\n",
    "\n",
    "$$\n",
    "\\begin{matrix}\n",
    "1&2&3 \\\\\n",
    "4&5&6 \\\\\n",
    "7&8&9\n",
    "\\end{matrix}\n",
    "$$\n",
    "\n",
    "\n",
    "代码：\n",
    "\n",
    "```\n",
    "\\left \\{\n",
    "\\begin{matrix}\n",
    "1&2&3 \\\\\n",
    "4&5&6 \\\\\n",
    "7&8&9\n",
    "\\end{matrix}\n",
    "\\right \\}\n",
    "```\n",
    "\n",
    "符号：\n",
    "\n",
    "$$\n",
    "\\left \\{\n",
    "\\begin{matrix}\n",
    "1&2&3 \\\\\n",
    "4&5&6 \\\\\n",
    "7&8&9\n",
    "\\end{matrix}\n",
    "\\right \\}\n",
    "$$\n",
    "\n",
    "代码：\n",
    "\n",
    "```\n",
    "\\left |\n",
    "\\begin{matrix}\n",
    "1&2&3 \\\\\n",
    "4&5&6 \\\\\n",
    "7&8&9\n",
    "\\end{matrix}\n",
    "\\right |\n",
    "```\n",
    "\n",
    "符号：\n",
    "\n",
    "$$\n",
    "\\left |\n",
    "\\begin{matrix}\n",
    "1&2&3 \\\\\n",
    "4&5&6 \\\\\n",
    "7&8&9\n",
    "\\end{matrix}\n",
    "\\right |\n",
    "$$\n",
    "\n",
    "\n",
    "代码：\n",
    "\n",
    "```\n",
    "\\left (\n",
    "\\begin{matrix}\n",
    "1&2&3 \\\\\n",
    "4&5&6 \\\\\n",
    "7&8&9\n",
    "\\end{matrix}\n",
    "\\right )\n",
    "```\n",
    "\n",
    "符号：\n",
    "\n",
    "$$\n",
    "\\left (\n",
    "\\begin{matrix}\n",
    "1&2&3 \\\\\n",
    "4&5&6 \\\\\n",
    "7&8&9\n",
    "\\end{matrix}\n",
    "\\right )\n",
    "$$\n",
    "\n",
    "上面是使用 \\left 和 \\right 来添加的左右括号，也可以不用这对符号，将 \\begin 和 \\end 后面的词分别换为 pmatrix、bmatrix、Bmatrix、vmatrix、Vmatrix，分别对应小括号、中括号、大括号、单竖线、双竖线，如：\n",
    "\n",
    "代码：\n",
    "\n",
    "```\n",
    "\\begin{pmatrix}\n",
    "1&2&3 \\\\\n",
    "4&5&6 \\\\\n",
    "7&8&9\n",
    "\\end{pmatrix}\n",
    "```\n",
    "\n",
    "符号：\n",
    "\n",
    "$$\n",
    "\\begin{pmatrix}\n",
    "1&2&3 \\\\\n",
    "4&5&6 \\\\\n",
    "7&8&9\n",
    "\\end{pmatrix}\n",
    "$$\n",
    "\n",
    "\n",
    "代码：\n",
    "\n",
    "```\n",
    "\\begin{array} {c c | c} % c 居中，r 右对齐，l 左对齐，竖线为插入竖线的位置\n",
    "1&2&3 \\\\\n",
    "\\hline % 插入横线\n",
    "4&5&6 \\\\\n",
    "7&8&9\n",
    "\\end{array}\n",
    "```\n",
    "\n",
    "符号：\n",
    "\n",
    "$$\n",
    "\\begin{array} {c c | c} % c 居中，r 右对齐，l 左对齐，竖线为插入竖线的位置\n",
    "1&2&3 \\\\\n",
    "\\hline % 插入横线\n",
    "4&5&6 \\\\\n",
    "7&8&9\n",
    "\\end{array}\n",
    "$$"
   ]
  },
  {
   "cell_type": "markdown",
   "id": "ecc4b692-8c48-4a8d-844f-edafce6cac57",
   "metadata": {},
   "source": [
    "## 表格"
   ]
  },
  {
   "cell_type": "markdown",
   "id": "aa346fa7-497c-49f3-8f24-477ebf4ccf4c",
   "metadata": {},
   "source": [
    "代码：\n",
    "\n",
    "```\n",
    "\\begin{array}{c|lcr}\n",
    "n & \\text{Left} & \\text{Center} & \\text{Right} \\\\\n",
    "\\hline\n",
    "1 & 2 & 1 & 4 \\\\\n",
    "4 & 3 & 2 & 1 \\\\\n",
    "1.0 & 2.0 & 3000 & 3\\times10^5 \\\\\n",
    "\\end{array}\n",
    "```\n",
    "\n",
    "符号：\n",
    "\n",
    "$$\n",
    "\\begin{array}{c|lcr}\n",
    "n & \\text{Left} & \\text{Center} & \\text{Right} \\\\\n",
    "\\hline\n",
    "1 & 2 & 1 & 4 \\\\\n",
    "4 & 3 & 2 & 1 \\\\\n",
    "1.0 & 2.0 & 3000 & 3\\times10^5 \\\\\n",
    "\\end{array}\n",
    "$$\n",
    "\n",
    "代码：\n",
    "\n",
    "```\n",
    "\\begin{array}{|c|c|}\n",
    "\\hline\n",
    "\\text{公式1} & \\text{公式2} \\\\\n",
    "\\hline\n",
    "\\begin{aligned}\n",
    "a &= b + c \\\\\n",
    "  &= d + e\n",
    "\\end{aligned}\n",
    "&\n",
    "\\begin{aligned}\n",
    "f &= g + h \\\\\n",
    "  &= i + j\n",
    "\\end{aligned} \\\\\n",
    "\\hline\n",
    "\\end{array}\n",
    "```\n",
    "\n",
    "符号：\n",
    "\n",
    "$$\n",
    "\\begin{array}{|c|c|}\n",
    "\\hline\n",
    "\\text{公式1} & \\text{公式2} \\\\\n",
    "\\hline\n",
    "\\begin{aligned}\n",
    "a &= b + c \\\\\n",
    "  &= d + e\n",
    "\\end{aligned}\n",
    "&\n",
    "\\begin{aligned}\n",
    "f &= g + h \\\\\n",
    "  &= i + j\n",
    "\\end{aligned} \\\\\n",
    "\\hline\n",
    "\\end{array}\n",
    "$$"
   ]
  },
  {
   "cell_type": "markdown",
   "id": "51bd567e-312d-46f2-9421-10fd03b2a542",
   "metadata": {},
   "source": [
    "## 字体"
   ]
  },
  {
   "cell_type": "markdown",
   "id": "dac885d1-98d8-4abb-ae0c-25132d388292",
   "metadata": {},
   "source": [
    "### 黑板粗体\n",
    "\n",
    "一般用于表示数学和物理学中的向量或集合"
   ]
  },
  {
   "cell_type": "markdown",
   "id": "f87d8abf-627a-47f9-bc71-d0221841a2b4",
   "metadata": {},
   "source": [
    "代码：\n",
    "\n",
    "```\n",
    "\\mathbb{ABCDEFGHIJKLMNOPQRSTUVWXYZ} \n",
    "```\n",
    "\n",
    "符号：\n",
    "\n",
    "$$\n",
    "\\mathbb{ABCDEFGHIJKLMNOPQRSTUVWXYZ} \n",
    "$$\n",
    "\n",
    "代码：\n",
    "\n",
    "```\n",
    "\\mathbb{abcdefghijklmnopqrstuvwxyz} \n",
    "```\n",
    "\n",
    "符号：\n",
    "\n",
    "$$\n",
    "\\mathbb{abcdefghijklmnopqrstuvwxyz} \n",
    "$$"
   ]
  },
  {
   "cell_type": "markdown",
   "id": "95c86702-5f4a-44a8-8919-9b70d30ad906",
   "metadata": {},
   "source": [
    "### 正粗体"
   ]
  },
  {
   "cell_type": "markdown",
   "id": "079faa47-e6d9-4b3a-b2ce-fedb1cce8d48",
   "metadata": {},
   "source": [
    "代码：\n",
    "\n",
    "```\n",
    "\\mathbf{ABCDEFGHIJKLMNOPQRSTUVWXYZ}\n",
    "```\n",
    "\n",
    "符号：\n",
    "\n",
    "$$\n",
    "\\mathbf{ABCDEFGHIJKLMNOPQRSTUVWXYZ}\n",
    "$$\n",
    "\n",
    "代码：\n",
    "\n",
    "```\n",
    "\\mathbf{abcdefghijklmnopqrstuvwxyz} \n",
    "```\n",
    "\n",
    "符号：\n",
    "\n",
    "$$\n",
    "\\mathbf{abcdefghijklmnopqrstuvwxyz} \n",
    "$$"
   ]
  },
  {
   "cell_type": "markdown",
   "id": "d9361e73-edf0-4083-b27a-de142c903f7b",
   "metadata": {},
   "source": [
    "### 罗马体"
   ]
  },
  {
   "cell_type": "markdown",
   "id": "cfb50dd1-5244-474f-81a8-3281a757863e",
   "metadata": {},
   "source": [
    "代码：\n",
    "\n",
    "```\n",
    "\\mathrm{ABCDEFGHIJKLMNOPQRSTUVWXYZ} \n",
    "```\n",
    "\n",
    "符号：\n",
    "\n",
    "$$\n",
    "\\mathrm{ABCDEFGHIJKLMNOPQRSTUVWXYZ} \n",
    "$$\n",
    "\n",
    "代码：\n",
    "\n",
    "```\n",
    "\\mathrm{abcdefghijklmnopqrstuvwxyz} \n",
    "```\n",
    "\n",
    "符号：\n",
    "\n",
    "$$\n",
    "\\mathrm{abcdefghijklmnopqrstuvwxyz} \n",
    "$$"
   ]
  },
  {
   "cell_type": "markdown",
   "id": "deaaca62-b655-4073-859c-ff93d121908f",
   "metadata": {},
   "source": [
    "### 哥特体"
   ]
  },
  {
   "cell_type": "markdown",
   "id": "27cd1b6c-3815-471a-952a-e0fba184b3a6",
   "metadata": {},
   "source": [
    "代码：\n",
    "\n",
    "```\n",
    "\\mathfrak{ABCDEFGHIJKLMNOPQRSTUVWXYZ}\n",
    "```\n",
    "\n",
    "符号：\n",
    "\n",
    "$$\n",
    "\\mathfrak{ABCDEFGHIJKLMNOPQRSTUVWXYZ}\n",
    "$$\n",
    "\n",
    "代码：\n",
    "\n",
    "```\n",
    "\\mathfrak{abcdefghijklmnopqrstuvwxyz} \n",
    "```\n",
    "\n",
    "符号：\n",
    "\n",
    "$$\n",
    "\\mathfrak{abcdefghijklmnopqrstuvwxyz} \n",
    "$$"
   ]
  },
  {
   "cell_type": "markdown",
   "id": "b1abf3d6-b3d5-41a3-8417-9efe1bfff4ef",
   "metadata": {},
   "source": [
    "### 打印体"
   ]
  },
  {
   "cell_type": "markdown",
   "id": "a80530a9-271f-4327-ba0a-0b8523016e6d",
   "metadata": {},
   "source": [
    "代码：\n",
    "\n",
    "```\n",
    "\\mathtt{ABCDEFGHIJKLMNOPQRSTUVWXYZ} \n",
    "```\n",
    "\n",
    "符号：\n",
    "\n",
    "$$\n",
    "\\mathtt{ABCDEFGHIJKLMNOPQRSTUVWXYZ} \n",
    "$$\n",
    "\n",
    "代码：\n",
    "\n",
    "```\n",
    "\\mathtt{abcdefghijklmnopqrstuvwxyz}\n",
    "```\n",
    "\n",
    "符号：\n",
    "\n",
    "$$\n",
    "\\mathtt{abcdefghijklmnopqrstuvwxyz}\n",
    "$$\n"
   ]
  },
  {
   "cell_type": "markdown",
   "id": "f9c9c64a-586c-404c-80e6-7862c6ed9998",
   "metadata": {},
   "source": [
    "### 手写体"
   ]
  },
  {
   "cell_type": "markdown",
   "id": "5d406932-cd0f-46b8-819e-d02677614b57",
   "metadata": {},
   "source": [
    "代码：\n",
    "\n",
    "```\n",
    "\\mathcal{ABCDEFGHIJKLMNOPQRSTUVWXYZ} \n",
    "```\n",
    "\n",
    "符号：\n",
    "\n",
    "$$\n",
    "\\mathcal{ABCDEFGHIJKLMNOPQRSTUVWXYZ} \n",
    "$$\n",
    "\n",
    "代码：\n",
    "\n",
    "```\n",
    "\\mathcal{abcdefghijklmnopqrstuvwxyz} \n",
    "```\n",
    "\n",
    "符号：\n",
    "\n",
    "$$\n",
    "\\mathcal{abcdefghijklmnopqrstuvwxyz} \n",
    "$$"
   ]
  }
 ],
 "metadata": {
  "kernelspec": {
   "display_name": "Python 3 (ipykernel)",
   "language": "python",
   "name": "python3"
  },
  "language_info": {
   "codemirror_mode": {
    "name": "ipython",
    "version": 3
   },
   "file_extension": ".py",
   "mimetype": "text/x-python",
   "name": "python",
   "nbconvert_exporter": "python",
   "pygments_lexer": "ipython3",
   "version": "3.10.12"
  }
 },
 "nbformat": 4,
 "nbformat_minor": 5
}
